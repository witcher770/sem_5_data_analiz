{
 "cells": [
  {
   "cell_type": "markdown",
   "metadata": {
    "id": "bri_pAriNFqN"
   },
   "source": [
    "**Цель работы:**\n",
    "\n",
    "Осуществить предварительную обработку данных csv-файла, выявить и устранить проблемы в этих данных."
   ]
  },
  {
   "cell_type": "markdown",
   "metadata": {
    "id": "r_e-GeJmgZ8l"
   },
   "source": [
    "# Загрузка набора данных"
   ]
  },
  {
   "cell_type": "markdown",
   "metadata": {
    "id": "eeq9ZAbSguQS"
   },
   "source": [
    "### Описание предметной области"
   ]
  },
  {
   "attachments": {},
   "cell_type": "markdown",
   "metadata": {
    "id": "XHbH8zNIg0Ib"
   },
   "source": [
    "Вариант №14\n",
    "\n",
    "Набор данных: clients.csv\n",
    "\n",
    "Атрибуты: ID, Year_Birth, Education, Marital_Status, Income, Kidhome, Dt_Customer, NumDealsPurchases\n"
   ]
  },
  {
   "cell_type": "markdown",
   "metadata": {
    "id": "Lwin9ia7hT1i"
   },
   "source": [
    "### 1.Чтение файла (набора данных)"
   ]
  },
  {
   "cell_type": "code",
   "execution_count": 1,
   "metadata": {
    "id": "a5dYQO5YhOYa"
   },
   "outputs": [],
   "source": [
    "# импорт библиотек, чтение файла с помощью pandas\n",
    "import pandas as pd\n",
    "df = pd.read_csv('C:\\\\Users\\\\Максим\\\\Desktop\\\\учеба вуз\\\\clients.csv', sep=';') # чтение таблицы"
   ]
  },
  {
   "cell_type": "markdown",
   "metadata": {
    "id": "p82p53SvhjLN"
   },
   "source": [
    "### 2. Обзор данных"
   ]
  },
  {
   "cell_type": "markdown",
   "metadata": {
    "id": "eAYzXaLrh-qh"
   },
   "source": [
    "2.1 Вывод первых 20 строк с помощью метода head."
   ]
  },
  {
   "cell_type": "code",
   "execution_count": 2,
   "metadata": {
    "id": "7yMo3VZ_hotx"
   },
   "outputs": [
    {
     "data": {
      "text/html": [
       "<div>\n",
       "<style scoped>\n",
       "    .dataframe tbody tr th:only-of-type {\n",
       "        vertical-align: middle;\n",
       "    }\n",
       "\n",
       "    .dataframe tbody tr th {\n",
       "        vertical-align: top;\n",
       "    }\n",
       "\n",
       "    .dataframe thead th {\n",
       "        text-align: right;\n",
       "    }\n",
       "</style>\n",
       "<table border=\"1\" class=\"dataframe\">\n",
       "  <thead>\n",
       "    <tr style=\"text-align: right;\">\n",
       "      <th></th>\n",
       "      <th>ID</th>\n",
       "      <th>Year_Birth</th>\n",
       "      <th>Education</th>\n",
       "      <th>Marital_Status</th>\n",
       "      <th>Income</th>\n",
       "      <th>Kidhome</th>\n",
       "      <th>Dt_Customer</th>\n",
       "      <th>NumDealsPurchases</th>\n",
       "    </tr>\n",
       "  </thead>\n",
       "  <tbody>\n",
       "    <tr>\n",
       "      <th>0</th>\n",
       "      <td>5524</td>\n",
       "      <td>1957</td>\n",
       "      <td>Graduation</td>\n",
       "      <td>Single</td>\n",
       "      <td>58138.0</td>\n",
       "      <td>0.0</td>\n",
       "      <td>04.09.2012</td>\n",
       "      <td>3.0</td>\n",
       "    </tr>\n",
       "    <tr>\n",
       "      <th>1</th>\n",
       "      <td>2174</td>\n",
       "      <td>1954</td>\n",
       "      <td>Graduation</td>\n",
       "      <td>Single</td>\n",
       "      <td>46344.0</td>\n",
       "      <td>1.0</td>\n",
       "      <td>08.03.2014</td>\n",
       "      <td>2.0</td>\n",
       "    </tr>\n",
       "    <tr>\n",
       "      <th>2</th>\n",
       "      <td>4141</td>\n",
       "      <td>1965</td>\n",
       "      <td>Graduation</td>\n",
       "      <td>Together</td>\n",
       "      <td>71613.0</td>\n",
       "      <td>0.0</td>\n",
       "      <td>21.08.2013</td>\n",
       "      <td>1.0</td>\n",
       "    </tr>\n",
       "    <tr>\n",
       "      <th>3</th>\n",
       "      <td>6182</td>\n",
       "      <td>1984</td>\n",
       "      <td>Graduation</td>\n",
       "      <td>Together</td>\n",
       "      <td>26646.0</td>\n",
       "      <td>1.0</td>\n",
       "      <td>10.02.2014</td>\n",
       "      <td>2.0</td>\n",
       "    </tr>\n",
       "    <tr>\n",
       "      <th>4</th>\n",
       "      <td>5324</td>\n",
       "      <td>1981</td>\n",
       "      <td>PhD</td>\n",
       "      <td>Married</td>\n",
       "      <td>58293.0</td>\n",
       "      <td>1.0</td>\n",
       "      <td>19.01.2014</td>\n",
       "      <td>5.0</td>\n",
       "    </tr>\n",
       "    <tr>\n",
       "      <th>5</th>\n",
       "      <td>7446</td>\n",
       "      <td>1967</td>\n",
       "      <td>Master</td>\n",
       "      <td>Together</td>\n",
       "      <td>62513.0</td>\n",
       "      <td>0.0</td>\n",
       "      <td>09.09.2013</td>\n",
       "      <td>2.0</td>\n",
       "    </tr>\n",
       "    <tr>\n",
       "      <th>6</th>\n",
       "      <td>965</td>\n",
       "      <td>1971</td>\n",
       "      <td>Graduation</td>\n",
       "      <td>Divorced</td>\n",
       "      <td>55635.0</td>\n",
       "      <td>0.0</td>\n",
       "      <td>13.11.2012</td>\n",
       "      <td>4.0</td>\n",
       "    </tr>\n",
       "    <tr>\n",
       "      <th>7</th>\n",
       "      <td>6177</td>\n",
       "      <td>1985</td>\n",
       "      <td>PhD</td>\n",
       "      <td>Married</td>\n",
       "      <td>33454.0</td>\n",
       "      <td>1.0</td>\n",
       "      <td>08.05.2013</td>\n",
       "      <td>2.0</td>\n",
       "    </tr>\n",
       "    <tr>\n",
       "      <th>8</th>\n",
       "      <td>4855</td>\n",
       "      <td>1974</td>\n",
       "      <td>PhD</td>\n",
       "      <td>Together</td>\n",
       "      <td>30351.0</td>\n",
       "      <td>1.0</td>\n",
       "      <td>06.06.2013</td>\n",
       "      <td>1.0</td>\n",
       "    </tr>\n",
       "    <tr>\n",
       "      <th>9</th>\n",
       "      <td>5899</td>\n",
       "      <td>1950</td>\n",
       "      <td>PhD</td>\n",
       "      <td>Together</td>\n",
       "      <td>5648.0</td>\n",
       "      <td>1.0</td>\n",
       "      <td>13.03.2014</td>\n",
       "      <td>1.0</td>\n",
       "    </tr>\n",
       "    <tr>\n",
       "      <th>10</th>\n",
       "      <td>1994</td>\n",
       "      <td>1983</td>\n",
       "      <td>Graduation</td>\n",
       "      <td>MARRIED</td>\n",
       "      <td>NaN</td>\n",
       "      <td>NaN</td>\n",
       "      <td>NaN</td>\n",
       "      <td>NaN</td>\n",
       "    </tr>\n",
       "    <tr>\n",
       "      <th>11</th>\n",
       "      <td>387</td>\n",
       "      <td>1976</td>\n",
       "      <td>Basic</td>\n",
       "      <td>Married</td>\n",
       "      <td>7500.0</td>\n",
       "      <td>0.0</td>\n",
       "      <td>13.11.2012</td>\n",
       "      <td>1.0</td>\n",
       "    </tr>\n",
       "    <tr>\n",
       "      <th>12</th>\n",
       "      <td>2125</td>\n",
       "      <td>1959</td>\n",
       "      <td>Graduation</td>\n",
       "      <td>Divorced</td>\n",
       "      <td>63033.0</td>\n",
       "      <td>0.0</td>\n",
       "      <td>15.11.2013</td>\n",
       "      <td>1.0</td>\n",
       "    </tr>\n",
       "    <tr>\n",
       "      <th>13</th>\n",
       "      <td>8180</td>\n",
       "      <td>1952</td>\n",
       "      <td>Master</td>\n",
       "      <td>Divorced</td>\n",
       "      <td>59354.0</td>\n",
       "      <td>1.0</td>\n",
       "      <td>15.11.2013</td>\n",
       "      <td>3.0</td>\n",
       "    </tr>\n",
       "    <tr>\n",
       "      <th>14</th>\n",
       "      <td>2569</td>\n",
       "      <td>1987</td>\n",
       "      <td>Graduation</td>\n",
       "      <td>Married</td>\n",
       "      <td>17323.0</td>\n",
       "      <td>0.0</td>\n",
       "      <td>10.10.2012</td>\n",
       "      <td>1.0</td>\n",
       "    </tr>\n",
       "    <tr>\n",
       "      <th>15</th>\n",
       "      <td>2114</td>\n",
       "      <td>1946</td>\n",
       "      <td>PhD</td>\n",
       "      <td>SINGL</td>\n",
       "      <td>82800.0</td>\n",
       "      <td>0.0</td>\n",
       "      <td>24.11.2012</td>\n",
       "      <td>1.0</td>\n",
       "    </tr>\n",
       "    <tr>\n",
       "      <th>16</th>\n",
       "      <td>9736</td>\n",
       "      <td>1980</td>\n",
       "      <td>Graduation</td>\n",
       "      <td>Married</td>\n",
       "      <td>41850.0</td>\n",
       "      <td>1.0</td>\n",
       "      <td>24.12.2012</td>\n",
       "      <td>3.0</td>\n",
       "    </tr>\n",
       "    <tr>\n",
       "      <th>17</th>\n",
       "      <td>4939</td>\n",
       "      <td>1946</td>\n",
       "      <td>Graduation</td>\n",
       "      <td>Together</td>\n",
       "      <td>37760.0</td>\n",
       "      <td>0.0</td>\n",
       "      <td>31.08.2012</td>\n",
       "      <td>2.0</td>\n",
       "    </tr>\n",
       "    <tr>\n",
       "      <th>18</th>\n",
       "      <td>6565</td>\n",
       "      <td>1949</td>\n",
       "      <td>Master</td>\n",
       "      <td>Married</td>\n",
       "      <td>76995.0</td>\n",
       "      <td>0.0</td>\n",
       "      <td>28.03.2013</td>\n",
       "      <td>2.0</td>\n",
       "    </tr>\n",
       "    <tr>\n",
       "      <th>19</th>\n",
       "      <td>9360</td>\n",
       "      <td>1982</td>\n",
       "      <td>Graduation</td>\n",
       "      <td>Married</td>\n",
       "      <td>37040.0</td>\n",
       "      <td>0.0</td>\n",
       "      <td>08.08.2012</td>\n",
       "      <td>1.0</td>\n",
       "    </tr>\n",
       "  </tbody>\n",
       "</table>\n",
       "</div>"
      ],
      "text/plain": [
       "      ID  Year_Birth   Education Marital_Status   Income  Kidhome Dt_Customer  \\\n",
       "0   5524        1957  Graduation         Single  58138.0      0.0  04.09.2012   \n",
       "1   2174        1954  Graduation         Single  46344.0      1.0  08.03.2014   \n",
       "2   4141        1965  Graduation       Together  71613.0      0.0  21.08.2013   \n",
       "3   6182        1984  Graduation       Together  26646.0      1.0  10.02.2014   \n",
       "4   5324        1981         PhD        Married  58293.0      1.0  19.01.2014   \n",
       "5   7446        1967      Master       Together  62513.0      0.0  09.09.2013   \n",
       "6    965        1971  Graduation       Divorced  55635.0      0.0  13.11.2012   \n",
       "7   6177        1985         PhD        Married  33454.0      1.0  08.05.2013   \n",
       "8   4855        1974         PhD       Together  30351.0      1.0  06.06.2013   \n",
       "9   5899        1950         PhD       Together   5648.0      1.0  13.03.2014   \n",
       "10  1994        1983  Graduation        MARRIED      NaN      NaN         NaN   \n",
       "11   387        1976       Basic        Married   7500.0      0.0  13.11.2012   \n",
       "12  2125        1959  Graduation       Divorced  63033.0      0.0  15.11.2013   \n",
       "13  8180        1952      Master       Divorced  59354.0      1.0  15.11.2013   \n",
       "14  2569        1987  Graduation        Married  17323.0      0.0  10.10.2012   \n",
       "15  2114        1946         PhD          SINGL  82800.0      0.0  24.11.2012   \n",
       "16  9736        1980  Graduation        Married  41850.0      1.0  24.12.2012   \n",
       "17  4939        1946  Graduation       Together  37760.0      0.0  31.08.2012   \n",
       "18  6565        1949      Master        Married  76995.0      0.0  28.03.2013   \n",
       "19  9360        1982  Graduation        Married  37040.0      0.0  08.08.2012   \n",
       "\n",
       "    NumDealsPurchases  \n",
       "0                 3.0  \n",
       "1                 2.0  \n",
       "2                 1.0  \n",
       "3                 2.0  \n",
       "4                 5.0  \n",
       "5                 2.0  \n",
       "6                 4.0  \n",
       "7                 2.0  \n",
       "8                 1.0  \n",
       "9                 1.0  \n",
       "10                NaN  \n",
       "11                1.0  \n",
       "12                1.0  \n",
       "13                3.0  \n",
       "14                1.0  \n",
       "15                1.0  \n",
       "16                3.0  \n",
       "17                2.0  \n",
       "18                2.0  \n",
       "19                1.0  "
      ]
     },
     "execution_count": 2,
     "metadata": {},
     "output_type": "execute_result"
    }
   ],
   "source": [
    "# применить метод head\n",
    "df.head(20)"
   ]
  },
  {
   "cell_type": "markdown",
   "metadata": {
    "id": "Ze-lXxLMhpWv"
   },
   "source": [
    "2.2 Оценка данных с помощью метода info."
   ]
  },
  {
   "cell_type": "code",
   "execution_count": 3,
   "metadata": {
    "id": "bjhngmaLiGM-"
   },
   "outputs": [
    {
     "name": "stdout",
     "output_type": "stream",
     "text": [
      "<class 'pandas.core.frame.DataFrame'>\n",
      "RangeIndex: 796 entries, 0 to 795\n",
      "Data columns (total 8 columns):\n",
      " #   Column             Non-Null Count  Dtype  \n",
      "---  ------             --------------  -----  \n",
      " 0   ID                 796 non-null    int64  \n",
      " 1   Year_Birth         796 non-null    int64  \n",
      " 2   Education          796 non-null    object \n",
      " 3   Marital_Status     796 non-null    object \n",
      " 4   Income             784 non-null    float64\n",
      " 5   Kidhome            795 non-null    float64\n",
      " 6   Dt_Customer        795 non-null    object \n",
      " 7   NumDealsPurchases  795 non-null    float64\n",
      "dtypes: float64(3), int64(2), object(3)\n",
      "memory usage: 49.9+ KB\n"
     ]
    }
   ],
   "source": [
    "# выполнит метод info\n",
    "df.info()"
   ]
  },
  {
   "cell_type": "markdown",
   "metadata": {
    "id": "06PDq9DAiMAY"
   },
   "source": [
    "2.3 Оценка данных с помощью метода describe."
   ]
  },
  {
   "cell_type": "code",
   "execution_count": 4,
   "metadata": {
    "id": "cTVFwzO1jQfN"
   },
   "outputs": [
    {
     "data": {
      "text/html": [
       "<div>\n",
       "<style scoped>\n",
       "    .dataframe tbody tr th:only-of-type {\n",
       "        vertical-align: middle;\n",
       "    }\n",
       "\n",
       "    .dataframe tbody tr th {\n",
       "        vertical-align: top;\n",
       "    }\n",
       "\n",
       "    .dataframe thead th {\n",
       "        text-align: right;\n",
       "    }\n",
       "</style>\n",
       "<table border=\"1\" class=\"dataframe\">\n",
       "  <thead>\n",
       "    <tr style=\"text-align: right;\">\n",
       "      <th></th>\n",
       "      <th>ID</th>\n",
       "      <th>Year_Birth</th>\n",
       "      <th>Income</th>\n",
       "      <th>Kidhome</th>\n",
       "      <th>NumDealsPurchases</th>\n",
       "    </tr>\n",
       "  </thead>\n",
       "  <tbody>\n",
       "    <tr>\n",
       "      <th>count</th>\n",
       "      <td>796.000000</td>\n",
       "      <td>796.000000</td>\n",
       "      <td>784.00000</td>\n",
       "      <td>795.000000</td>\n",
       "      <td>795.000000</td>\n",
       "    </tr>\n",
       "    <tr>\n",
       "      <th>mean</th>\n",
       "      <td>5630.133166</td>\n",
       "      <td>1968.356784</td>\n",
       "      <td>53130.07398</td>\n",
       "      <td>0.438994</td>\n",
       "      <td>2.314465</td>\n",
       "    </tr>\n",
       "    <tr>\n",
       "      <th>std</th>\n",
       "      <td>3273.039715</td>\n",
       "      <td>12.022132</td>\n",
       "      <td>21818.56876</td>\n",
       "      <td>0.547252</td>\n",
       "      <td>1.941650</td>\n",
       "    </tr>\n",
       "    <tr>\n",
       "      <th>min</th>\n",
       "      <td>0.000000</td>\n",
       "      <td>1899.000000</td>\n",
       "      <td>2447.00000</td>\n",
       "      <td>0.000000</td>\n",
       "      <td>0.000000</td>\n",
       "    </tr>\n",
       "    <tr>\n",
       "      <th>25%</th>\n",
       "      <td>2853.000000</td>\n",
       "      <td>1959.000000</td>\n",
       "      <td>36141.75000</td>\n",
       "      <td>0.000000</td>\n",
       "      <td>1.000000</td>\n",
       "    </tr>\n",
       "    <tr>\n",
       "      <th>50%</th>\n",
       "      <td>5563.000000</td>\n",
       "      <td>1969.500000</td>\n",
       "      <td>52372.50000</td>\n",
       "      <td>0.000000</td>\n",
       "      <td>2.000000</td>\n",
       "    </tr>\n",
       "    <tr>\n",
       "      <th>75%</th>\n",
       "      <td>8584.250000</td>\n",
       "      <td>1977.000000</td>\n",
       "      <td>69293.25000</td>\n",
       "      <td>1.000000</td>\n",
       "      <td>3.000000</td>\n",
       "    </tr>\n",
       "    <tr>\n",
       "      <th>max</th>\n",
       "      <td>11191.000000</td>\n",
       "      <td>1995.000000</td>\n",
       "      <td>162397.00000</td>\n",
       "      <td>2.000000</td>\n",
       "      <td>15.000000</td>\n",
       "    </tr>\n",
       "  </tbody>\n",
       "</table>\n",
       "</div>"
      ],
      "text/plain": [
       "                 ID   Year_Birth        Income     Kidhome  NumDealsPurchases\n",
       "count    796.000000   796.000000     784.00000  795.000000         795.000000\n",
       "mean    5630.133166  1968.356784   53130.07398    0.438994           2.314465\n",
       "std     3273.039715    12.022132   21818.56876    0.547252           1.941650\n",
       "min        0.000000  1899.000000    2447.00000    0.000000           0.000000\n",
       "25%     2853.000000  1959.000000   36141.75000    0.000000           1.000000\n",
       "50%     5563.000000  1969.500000   52372.50000    0.000000           2.000000\n",
       "75%     8584.250000  1977.000000   69293.25000    1.000000           3.000000\n",
       "max    11191.000000  1995.000000  162397.00000    2.000000          15.000000"
      ]
     },
     "execution_count": 4,
     "metadata": {},
     "output_type": "execute_result"
    }
   ],
   "source": [
    "# оцените числовые столбцы с помощью describe\n",
    "df.describe()"
   ]
  },
  {
   "cell_type": "markdown",
   "metadata": {},
   "source": [
    "Сохраним среднее значение зарплаты в переменную"
   ]
  },
  {
   "cell_type": "code",
   "execution_count": 5,
   "metadata": {},
   "outputs": [],
   "source": [
    "mean_income = 53130"
   ]
  },
  {
   "cell_type": "markdown",
   "metadata": {},
   "source": [
    "- count: Общее количество ненулевых значений в каждом столбце.\n",
    "- mean: Среднее (mean) значение в столбце.\n",
    "- std: Стандартное отклонение, показывающее разброс значений.\n",
    "- min: Минимальное значение в столбце.\n",
    "- 25%: 25-й процентиль (Q1), то есть 25 % точек данных меньше этого значения.\n",
    "- 50%: Медианное значение (50-й процентиль), при котором половина точек данных находится ниже него.\n",
    "- 75%: 75-й процентиль (Q3) означает, что 75 % точек данных находятся ниже этого значения.\n",
    "- max: Максимальное значение в столбце."
   ]
  },
  {
   "cell_type": "code",
   "execution_count": 6,
   "metadata": {
    "scrolled": true
   },
   "outputs": [
    {
     "data": {
      "text/html": [
       "<div>\n",
       "<style scoped>\n",
       "    .dataframe tbody tr th:only-of-type {\n",
       "        vertical-align: middle;\n",
       "    }\n",
       "\n",
       "    .dataframe tbody tr th {\n",
       "        vertical-align: top;\n",
       "    }\n",
       "\n",
       "    .dataframe thead th {\n",
       "        text-align: right;\n",
       "    }\n",
       "</style>\n",
       "<table border=\"1\" class=\"dataframe\">\n",
       "  <thead>\n",
       "    <tr style=\"text-align: right;\">\n",
       "      <th></th>\n",
       "      <th>ID</th>\n",
       "      <th>Year_Birth</th>\n",
       "      <th>Income</th>\n",
       "      <th>Kidhome</th>\n",
       "      <th>NumDealsPurchases</th>\n",
       "    </tr>\n",
       "  </thead>\n",
       "  <tbody>\n",
       "    <tr>\n",
       "      <th>count</th>\n",
       "      <td>796.000000</td>\n",
       "      <td>796.000000</td>\n",
       "      <td>784.00000</td>\n",
       "      <td>795.000000</td>\n",
       "      <td>795.000000</td>\n",
       "    </tr>\n",
       "    <tr>\n",
       "      <th>mean</th>\n",
       "      <td>5630.133166</td>\n",
       "      <td>1968.356784</td>\n",
       "      <td>53130.07398</td>\n",
       "      <td>0.438994</td>\n",
       "      <td>2.314465</td>\n",
       "    </tr>\n",
       "    <tr>\n",
       "      <th>std</th>\n",
       "      <td>3273.039715</td>\n",
       "      <td>12.022132</td>\n",
       "      <td>21818.56876</td>\n",
       "      <td>0.547252</td>\n",
       "      <td>1.941650</td>\n",
       "    </tr>\n",
       "    <tr>\n",
       "      <th>min</th>\n",
       "      <td>0.000000</td>\n",
       "      <td>1899.000000</td>\n",
       "      <td>2447.00000</td>\n",
       "      <td>0.000000</td>\n",
       "      <td>0.000000</td>\n",
       "    </tr>\n",
       "    <tr>\n",
       "      <th>1%</th>\n",
       "      <td>111.950000</td>\n",
       "      <td>1944.000000</td>\n",
       "      <td>10126.51000</td>\n",
       "      <td>0.000000</td>\n",
       "      <td>0.000000</td>\n",
       "    </tr>\n",
       "    <tr>\n",
       "      <th>50%</th>\n",
       "      <td>5563.000000</td>\n",
       "      <td>1969.500000</td>\n",
       "      <td>52372.50000</td>\n",
       "      <td>0.000000</td>\n",
       "      <td>2.000000</td>\n",
       "    </tr>\n",
       "    <tr>\n",
       "      <th>99%</th>\n",
       "      <td>11084.200000</td>\n",
       "      <td>1991.050000</td>\n",
       "      <td>99319.81000</td>\n",
       "      <td>2.000000</td>\n",
       "      <td>9.000000</td>\n",
       "    </tr>\n",
       "    <tr>\n",
       "      <th>max</th>\n",
       "      <td>11191.000000</td>\n",
       "      <td>1995.000000</td>\n",
       "      <td>162397.00000</td>\n",
       "      <td>2.000000</td>\n",
       "      <td>15.000000</td>\n",
       "    </tr>\n",
       "  </tbody>\n",
       "</table>\n",
       "</div>"
      ],
      "text/plain": [
       "                 ID   Year_Birth        Income     Kidhome  NumDealsPurchases\n",
       "count    796.000000   796.000000     784.00000  795.000000         795.000000\n",
       "mean    5630.133166  1968.356784   53130.07398    0.438994           2.314465\n",
       "std     3273.039715    12.022132   21818.56876    0.547252           1.941650\n",
       "min        0.000000  1899.000000    2447.00000    0.000000           0.000000\n",
       "1%       111.950000  1944.000000   10126.51000    0.000000           0.000000\n",
       "50%     5563.000000  1969.500000   52372.50000    0.000000           2.000000\n",
       "99%    11084.200000  1991.050000   99319.81000    2.000000           9.000000\n",
       "max    11191.000000  1995.000000  162397.00000    2.000000          15.000000"
      ]
     },
     "execution_count": 6,
     "metadata": {},
     "output_type": "execute_result"
    }
   ],
   "source": [
    "percentiles = [.01, .99]\n",
    "df.describe(percentiles=percentiles)"
   ]
  },
  {
   "cell_type": "markdown",
   "metadata": {},
   "source": [
    "Благодаоря выбору других процентых соотношений видно, что у 1 процента людей зарплата меньше 10к, а у 99 процентов меньше 100к. На фоне этого минимальная и максимальная зарплата выглядят подозрительно. Однако так как нет информации о источнике получения данных и категории опрашиваемых, подобные зарплаты могут не быть ошибкой."
   ]
  },
  {
   "cell_type": "markdown",
   "metadata": {
    "id": "oOZUrZGuiGqc"
   },
   "source": [
    "\n",
    "---\n",
    "\n",
    "**Сделать выводы. Вы должны понимать, что означает тот или иной столбец, чтобы\n",
    " ответить на вопросы на защите.**\n",
    "\n",
    "\n",
    " ---\n"
   ]
  },
  {
   "cell_type": "raw",
   "metadata": {},
   "source": [
    "2.4 Оценка названий столбцов"
   ]
  },
  {
   "cell_type": "code",
   "execution_count": 7,
   "metadata": {},
   "outputs": [
    {
     "data": {
      "text/plain": [
       "Index(['ID', 'Year_Birth', 'Education', 'Marital_Status', 'Income', 'Kidhome',\n",
       "       'Dt_Customer', 'NumDealsPurchases'],\n",
       "      dtype='object')"
      ]
     },
     "execution_count": 7,
     "metadata": {},
     "output_type": "execute_result"
    }
   ],
   "source": [
    " # Вывести на экран названия столбцов с помощью df.columns. Выявить проблемы с названиями, если они есть. При необходимости переименовать столбцы. Если проблемы не обнаружены также дать пояснения.\n",
    "df.columns"
   ]
  },
  {
   "cell_type": "code",
   "execution_count": 8,
   "metadata": {},
   "outputs": [],
   "source": [
    "df = df.rename(columns={'Kidhome': 'Children', \n",
    "                        'Dt_Customer': 'Date_Registration', \n",
    "                        'NumDealsPurchases': 'Quantity_Purchases'})"
   ]
  },
  {
   "cell_type": "markdown",
   "metadata": {},
   "source": [
    "Лишних пробелов в столбцах нет, однако названия все равно были частично изменены. Столбцы приведены к единому стилю написания через символ «_», а также полностью изменены несколько названий, чтобы они отражали логический смысл столбца."
   ]
  },
  {
   "cell_type": "markdown",
   "metadata": {
    "id": "V0tLQcyrjnA_"
   },
   "source": [
    "### 3. Проверка пропусков"
   ]
  },
  {
   "cell_type": "code",
   "execution_count": 9,
   "metadata": {
    "id": "xuTz-Avjj9AW"
   },
   "outputs": [
    {
     "data": {
      "text/plain": [
       "ID                     0\n",
       "Year_Birth             0\n",
       "Education              0\n",
       "Marital_Status         0\n",
       "Income                12\n",
       "Children               1\n",
       "Date_Registration      1\n",
       "Quantity_Purchases     1\n",
       "dtype: int64"
      ]
     },
     "execution_count": 9,
     "metadata": {},
     "output_type": "execute_result"
    }
   ],
   "source": [
    "# Проверить данные на наличие пропусков и устранить их, если они есть (пропуски необходимо либо удалить, либо заменить каким-то значением).\n",
    "df.isna().sum()"
   ]
  },
  {
   "cell_type": "markdown",
   "metadata": {},
   "source": [
    "Заполним пропуски в столбце зарплаты средней. Затем снова проверим кол-во пропусков"
   ]
  },
  {
   "cell_type": "code",
   "execution_count": 10,
   "metadata": {},
   "outputs": [
    {
     "data": {
      "text/plain": [
       "ID                    0\n",
       "Year_Birth            0\n",
       "Education             0\n",
       "Marital_Status        0\n",
       "Income                0\n",
       "Children              1\n",
       "Date_Registration     1\n",
       "Quantity_Purchases    1\n",
       "dtype: int64"
      ]
     },
     "execution_count": 10,
     "metadata": {},
     "output_type": "execute_result"
    }
   ],
   "source": [
    "df['Income'] = df['Income'].fillna(mean_income)\n",
    "df.isna().sum()"
   ]
  },
  {
   "cell_type": "markdown",
   "metadata": {},
   "source": [
    "Были выведены все строки, содержащие пропуски. Так как это оказалась одна строка с пропусками в 3х столбцах, было решено, что проще ее удалить. Из-за удаления строки сбилась индексация, поэтому обновили ее. После снова был вызван метод isna(), чтобы убедиться в отсутствии пропусков"
   ]
  },
  {
   "cell_type": "code",
   "execution_count": 11,
   "metadata": {},
   "outputs": [
    {
     "data": {
      "text/html": [
       "<div>\n",
       "<style scoped>\n",
       "    .dataframe tbody tr th:only-of-type {\n",
       "        vertical-align: middle;\n",
       "    }\n",
       "\n",
       "    .dataframe tbody tr th {\n",
       "        vertical-align: top;\n",
       "    }\n",
       "\n",
       "    .dataframe thead th {\n",
       "        text-align: right;\n",
       "    }\n",
       "</style>\n",
       "<table border=\"1\" class=\"dataframe\">\n",
       "  <thead>\n",
       "    <tr style=\"text-align: right;\">\n",
       "      <th></th>\n",
       "      <th>ID</th>\n",
       "      <th>Year_Birth</th>\n",
       "      <th>Education</th>\n",
       "      <th>Marital_Status</th>\n",
       "      <th>Income</th>\n",
       "      <th>Children</th>\n",
       "      <th>Date_Registration</th>\n",
       "      <th>Quantity_Purchases</th>\n",
       "    </tr>\n",
       "  </thead>\n",
       "  <tbody>\n",
       "    <tr>\n",
       "      <th>10</th>\n",
       "      <td>1994</td>\n",
       "      <td>1983</td>\n",
       "      <td>Graduation</td>\n",
       "      <td>MARRIED</td>\n",
       "      <td>53130.0</td>\n",
       "      <td>NaN</td>\n",
       "      <td>NaN</td>\n",
       "      <td>NaN</td>\n",
       "    </tr>\n",
       "  </tbody>\n",
       "</table>\n",
       "</div>"
      ],
      "text/plain": [
       "      ID  Year_Birth   Education Marital_Status   Income  Children  \\\n",
       "10  1994        1983  Graduation        MARRIED  53130.0       NaN   \n",
       "\n",
       "   Date_Registration  Quantity_Purchases  \n",
       "10               NaN                 NaN  "
      ]
     },
     "execution_count": 11,
     "metadata": {},
     "output_type": "execute_result"
    }
   ],
   "source": [
    "df[df.isna().any(axis=1)]"
   ]
  },
  {
   "cell_type": "code",
   "execution_count": 12,
   "metadata": {},
   "outputs": [],
   "source": [
    "df.drop(10, inplace=True)"
   ]
  },
  {
   "cell_type": "code",
   "execution_count": 13,
   "metadata": {},
   "outputs": [],
   "source": [
    "df = df.reset_index(drop=True)"
   ]
  },
  {
   "cell_type": "code",
   "execution_count": 14,
   "metadata": {},
   "outputs": [
    {
     "name": "stdout",
     "output_type": "stream",
     "text": [
      "ID                    0\n",
      "Year_Birth            0\n",
      "Education             0\n",
      "Marital_Status        0\n",
      "Income                0\n",
      "Children              0\n",
      "Date_Registration     0\n",
      "Quantity_Purchases    0\n",
      "dtype: int64\n"
     ]
    }
   ],
   "source": [
    "print(df.isna().sum())"
   ]
  },
  {
   "cell_type": "markdown",
   "metadata": {
    "id": "efZ7vgSVkPQH"
   },
   "source": [
    "\n",
    "---\n",
    "\n",
    "**Вы должны аргументировать на защите, почему были выполнены те или иные действия с пропусками, а также знать другие способы работы с пропусками, чтобы\n",
    " ответить на вопросы на защите.**\n",
    "\n",
    "\n",
    " ---"
   ]
  },
  {
   "cell_type": "markdown",
   "metadata": {
    "id": "kkyrXXHikEXk"
   },
   "source": [
    "### 4. Проверка дубликатов"
   ]
  },
  {
   "cell_type": "markdown",
   "metadata": {
    "id": "ImqHvr3okIQ6"
   },
   "source": [
    "#### Проверка явных дубликатов"
   ]
  },
  {
   "cell_type": "markdown",
   "metadata": {},
   "source": [
    "С помощью метода duplicated были найдены строки дубликаты. После эти дубликаты были удалены, а индексация обновлена. "
   ]
  },
  {
   "cell_type": "code",
   "execution_count": 15,
   "metadata": {
    "id": "qu1oh-e5lDZ1"
   },
   "outputs": [
    {
     "data": {
      "text/html": [
       "<div>\n",
       "<style scoped>\n",
       "    .dataframe tbody tr th:only-of-type {\n",
       "        vertical-align: middle;\n",
       "    }\n",
       "\n",
       "    .dataframe tbody tr th {\n",
       "        vertical-align: top;\n",
       "    }\n",
       "\n",
       "    .dataframe thead th {\n",
       "        text-align: right;\n",
       "    }\n",
       "</style>\n",
       "<table border=\"1\" class=\"dataframe\">\n",
       "  <thead>\n",
       "    <tr style=\"text-align: right;\">\n",
       "      <th></th>\n",
       "      <th>ID</th>\n",
       "      <th>Year_Birth</th>\n",
       "      <th>Education</th>\n",
       "      <th>Marital_Status</th>\n",
       "      <th>Income</th>\n",
       "      <th>Children</th>\n",
       "      <th>Date_Registration</th>\n",
       "      <th>Quantity_Purchases</th>\n",
       "    </tr>\n",
       "  </thead>\n",
       "  <tbody>\n",
       "    <tr>\n",
       "      <th>791</th>\n",
       "      <td>2853</td>\n",
       "      <td>1980</td>\n",
       "      <td>Graduation</td>\n",
       "      <td>Single</td>\n",
       "      <td>51766.0</td>\n",
       "      <td>1.0</td>\n",
       "      <td>11.03.2014</td>\n",
       "      <td>2.0</td>\n",
       "    </tr>\n",
       "    <tr>\n",
       "      <th>792</th>\n",
       "      <td>2853</td>\n",
       "      <td>1980</td>\n",
       "      <td>Graduation</td>\n",
       "      <td>Single</td>\n",
       "      <td>51766.0</td>\n",
       "      <td>1.0</td>\n",
       "      <td>11.03.2014</td>\n",
       "      <td>2.0</td>\n",
       "    </tr>\n",
       "    <tr>\n",
       "      <th>793</th>\n",
       "      <td>2853</td>\n",
       "      <td>1980</td>\n",
       "      <td>Graduation</td>\n",
       "      <td>Single</td>\n",
       "      <td>51766.0</td>\n",
       "      <td>1.0</td>\n",
       "      <td>11.03.2014</td>\n",
       "      <td>2.0</td>\n",
       "    </tr>\n",
       "    <tr>\n",
       "      <th>794</th>\n",
       "      <td>2853</td>\n",
       "      <td>1980</td>\n",
       "      <td>Graduation</td>\n",
       "      <td>Single</td>\n",
       "      <td>51766.0</td>\n",
       "      <td>1.0</td>\n",
       "      <td>11.03.2014</td>\n",
       "      <td>2.0</td>\n",
       "    </tr>\n",
       "  </tbody>\n",
       "</table>\n",
       "</div>"
      ],
      "text/plain": [
       "       ID  Year_Birth   Education Marital_Status   Income  Children  \\\n",
       "791  2853        1980  Graduation         Single  51766.0       1.0   \n",
       "792  2853        1980  Graduation         Single  51766.0       1.0   \n",
       "793  2853        1980  Graduation         Single  51766.0       1.0   \n",
       "794  2853        1980  Graduation         Single  51766.0       1.0   \n",
       "\n",
       "    Date_Registration  Quantity_Purchases  \n",
       "791        11.03.2014                 2.0  \n",
       "792        11.03.2014                 2.0  \n",
       "793        11.03.2014                 2.0  \n",
       "794        11.03.2014                 2.0  "
      ]
     },
     "execution_count": 15,
     "metadata": {},
     "output_type": "execute_result"
    }
   ],
   "source": [
    "df[df.duplicated()] "
   ]
  },
  {
   "cell_type": "code",
   "execution_count": 16,
   "metadata": {
    "id": "ntArgvChkK26"
   },
   "outputs": [],
   "source": [
    "# удалите дубликаты, если они есть\n",
    "df = df.drop_duplicates().reset_index(drop=True)# аргумент drop, чтобы не создавать столбец index"
   ]
  },
  {
   "cell_type": "markdown",
   "metadata": {
    "id": "VeHTMcOmkLSw"
   },
   "source": [
    "#### Проверка неявных дубликатов"
   ]
  },
  {
   "cell_type": "markdown",
   "metadata": {},
   "source": [
    "Были выведены уникальные значения для столбцов Education и Marital_Status, а также сколько раз каждое значение встретилось. В столбце Education неявных дубликатов нет."
   ]
  },
  {
   "cell_type": "code",
   "execution_count": 17,
   "metadata": {
    "id": "-uOPKHlVlGo8"
   },
   "outputs": [
    {
     "name": "stdout",
     "output_type": "stream",
     "text": [
      "['Graduation' 'PhD' 'Master' 'Basic']\n",
      "['Single' 'Together' 'Married' 'Divorced' 'SINGL' 'MARRIED' 'Widow'\n",
      " 'Alone']\n"
     ]
    }
   ],
   "source": [
    "print(df['Education'].unique()) # Поиск уникальных значений\n",
    "print(df['Marital_Status'].unique()) # Поиск уникальных значений"
   ]
  },
  {
   "cell_type": "code",
   "execution_count": 18,
   "metadata": {},
   "outputs": [
    {
     "name": "stdout",
     "output_type": "stream",
     "text": [
      "Education\n",
      "Graduation    439\n",
      "PhD           190\n",
      "Master        147\n",
      "Basic          15\n",
      "Name: count, dtype: int64\n"
     ]
    },
    {
     "data": {
      "text/plain": [
       "Marital_Status\n",
       "Married     305\n",
       "Together    193\n",
       "Single      174\n",
       "Divorced     85\n",
       "Widow        29\n",
       "Alone         3\n",
       "MARRIED       1\n",
       "SINGL         1\n",
       "Name: count, dtype: int64"
      ]
     },
     "execution_count": 18,
     "metadata": {},
     "output_type": "execute_result"
    }
   ],
   "source": [
    "print(df[\"Education\"].value_counts())\n",
    "df[\"Marital_Status\"].value_counts()"
   ]
  },
  {
   "cell_type": "markdown",
   "metadata": {},
   "source": [
    "Сначала все поля были приведены к одному регистру. Затем заменены неявные дубликаты. Повторно были выведены уникальные значения, чтобы убедиться в отсутствии неявных дубликатов"
   ]
  },
  {
   "cell_type": "code",
   "execution_count": 19,
   "metadata": {
    "id": "89tMFEQ2k_M7"
   },
   "outputs": [
    {
     "data": {
      "text/plain": [
       "array(['Single', 'Together', 'Married', 'Divorced', 'Widow'], dtype=object)"
      ]
     },
     "execution_count": 19,
     "metadata": {},
     "output_type": "execute_result"
    }
   ],
   "source": [
    "# удалите дубликаты, если они есть\n",
    "df['Marital_Status'] = df['Marital_Status'].str.capitalize()\n",
    "df['Marital_Status'] = df['Marital_Status'].replace(['Alone', 'Singl'], 'Single')\n",
    "df['Marital_Status'].unique()"
   ]
  },
  {
   "cell_type": "markdown",
   "metadata": {
    "id": "GMcnDpOmlKhU"
   },
   "source": [
    "---\n",
    "\n",
    "**Вы должны аргументировать на защите, почему были выполнены те или иные действия с дубликатами, знать, что такое явные и неявные дубликаты и способы работы с ними, чтобы ответить на вопросы на защите.**\n",
    "\n",
    "\n",
    " ---"
   ]
  },
  {
   "cell_type": "markdown",
   "metadata": {
    "id": "md9GhfYMlbi7"
   },
   "source": [
    "### 5. Провека типов данных"
   ]
  },
  {
   "cell_type": "markdown",
   "metadata": {},
   "source": [
    "Для наглядности была повторно выведена информация о типах данных. Сначала были изменены типы с float на int для столбцов Children и Quantity_Purchases. Затем для столбца с датой с object на datetime64"
   ]
  },
  {
   "cell_type": "code",
   "execution_count": 20,
   "metadata": {
    "id": "lXTroENaluCW"
   },
   "outputs": [
    {
     "name": "stdout",
     "output_type": "stream",
     "text": [
      "<class 'pandas.core.frame.DataFrame'>\n",
      "RangeIndex: 791 entries, 0 to 790\n",
      "Data columns (total 8 columns):\n",
      " #   Column              Non-Null Count  Dtype  \n",
      "---  ------              --------------  -----  \n",
      " 0   ID                  791 non-null    int64  \n",
      " 1   Year_Birth          791 non-null    int64  \n",
      " 2   Education           791 non-null    object \n",
      " 3   Marital_Status      791 non-null    object \n",
      " 4   Income              791 non-null    float64\n",
      " 5   Children            791 non-null    float64\n",
      " 6   Date_Registration   791 non-null    object \n",
      " 7   Quantity_Purchases  791 non-null    float64\n",
      "dtypes: float64(3), int64(2), object(3)\n",
      "memory usage: 49.6+ KB\n"
     ]
    }
   ],
   "source": [
    "df.info()"
   ]
  },
  {
   "cell_type": "code",
   "execution_count": 21,
   "metadata": {},
   "outputs": [],
   "source": [
    "df['Children'] = df['Children'].astype(int)\n",
    "df['Quantity_Purchases'] = df['Quantity_Purchases'].astype(int)\n",
    "# df = df.astype({\n",
    "#     \"Children\": int,\n",
    "#     \"Quantity_Purchases\": int\n",
    "# })"
   ]
  },
  {
   "cell_type": "code",
   "execution_count": 22,
   "metadata": {},
   "outputs": [
    {
     "name": "stdout",
     "output_type": "stream",
     "text": [
      "<class 'pandas.core.frame.DataFrame'>\n",
      "RangeIndex: 791 entries, 0 to 790\n",
      "Data columns (total 8 columns):\n",
      " #   Column              Non-Null Count  Dtype         \n",
      "---  ------              --------------  -----         \n",
      " 0   ID                  791 non-null    int64         \n",
      " 1   Year_Birth          791 non-null    int64         \n",
      " 2   Education           791 non-null    object        \n",
      " 3   Marital_Status      791 non-null    object        \n",
      " 4   Income              791 non-null    float64       \n",
      " 5   Children            791 non-null    int64         \n",
      " 6   Date_Registration   791 non-null    datetime64[ns]\n",
      " 7   Quantity_Purchases  791 non-null    int64         \n",
      "dtypes: datetime64[ns](1), float64(1), int64(4), object(2)\n",
      "memory usage: 49.6+ KB\n"
     ]
    }
   ],
   "source": [
    "df['Date_Registration'] = pd.to_datetime(df['Date_Registration'], format='%d.%m.%Y')\n",
    "df.info()"
   ]
  },
  {
   "cell_type": "code",
   "execution_count": 23,
   "metadata": {
    "id": "WXhXgu29lop3"
   },
   "outputs": [],
   "source": [
    "# Проверьте типы данных, при необходимости измените типы данных, чтобы они соответствовали действительности."
   ]
  },
  {
   "cell_type": "markdown",
   "metadata": {
    "id": "DPDBNN4dlx7W"
   },
   "source": [
    "---\n",
    "\n",
    "**Обратите внимание, что во всех вариантах необходимо сделать приведение типов. Будьте готовы на защите аргументировать проверку типов (почему выполнены те или иные преобразования).**\n",
    "\n",
    "\n",
    " ---"
   ]
  },
  {
   "cell_type": "markdown",
   "metadata": {
    "id": "lzr0SgqlnmHy"
   },
   "source": [
    "### 6. Группировка данных"
   ]
  },
  {
   "cell_type": "markdown",
   "metadata": {
    "id": "QG_dbwzfmZoS"
   },
   "source": [
    "#### Задание 1"
   ]
  },
  {
   "cell_type": "markdown",
   "metadata": {
    "id": "CyCKTB4DmciW"
   },
   "source": [
    "*`Группировка - тип образования по каждому семейному статусу (marital_status)`*"
   ]
  },
  {
   "cell_type": "code",
   "execution_count": 24,
   "metadata": {},
   "outputs": [
    {
     "data": {
      "text/plain": [
       "Education   Marital_Status\n",
       "Basic       Divorced            1\n",
       "            Married             9\n",
       "            Single              1\n",
       "            Together            4\n",
       "Graduation  Divorced           49\n",
       "            Married           170\n",
       "            Single            103\n",
       "            Together           96\n",
       "            Widow              21\n",
       "Master      Divorced           12\n",
       "            Married            57\n",
       "            Single             32\n",
       "            Together           42\n",
       "            Widow               4\n",
       "PhD         Divorced           23\n",
       "            Married            70\n",
       "            Single             42\n",
       "            Together           51\n",
       "            Widow               4\n",
       "Name: Marital_Status, dtype: int64"
      ]
     },
     "execution_count": 24,
     "metadata": {},
     "output_type": "execute_result"
    }
   ],
   "source": [
    "df.groupby(['Education', 'Marital_Status'])['Marital_Status'].count()"
   ]
  },
  {
   "cell_type": "markdown",
   "metadata": {
    "id": "jLmhNuq0mms3"
   },
   "source": [
    "**`Сделайте вывод - интерпретацию - что можно увидеть из результата данной группировки?`**"
   ]
  },
  {
   "cell_type": "markdown",
   "metadata": {},
   "source": [
    "Чем выше образование, тем больше людей состоит в официальном браке (Married). Второе по популярности состояние — Together (гражданский брак). Single и Divorced занимают средние позиции. Widow — редкая категория. Можно предположить, что более образованные люди чаще вступают в брак (и/или чаще остаются в браке), но при этом среди них распространено и сожительство (Together)."
   ]
  },
  {
   "cell_type": "markdown",
   "metadata": {
    "id": "quMr70SmnMXS"
   },
   "source": [
    "---\n",
    "\n",
    "**Обратите внимание, что на защите вы должны ориентироваться в синтаксисе. При необходимости нужно быть готовым изменить код по просьбе преподавателя. Например, вместо среднего значения подсчитать медиану и т.д.**\n",
    "\n",
    "\n",
    " ---"
   ]
  },
  {
   "cell_type": "markdown",
   "metadata": {
    "id": "j0isGCzEne7a"
   },
   "source": [
    "#### Задание 2"
   ]
  },
  {
   "cell_type": "markdown",
   "metadata": {
    "id": "kE2vLBWbne7a"
   },
   "source": [
    "*`Группировка - семейный статус (marital_status) по количеству детей.\n",
    "Создать датафрейм. Переименовать столбец с количеством в “сount”.\n",
    "Отсортировать по убыванию столбца “count”. `*"
   ]
  },
  {
   "cell_type": "markdown",
   "metadata": {},
   "source": [
    "Была выполнена групировка с подсчетом колличества. Затем серия была отсортирована и преобразована в ДФ с созданием столбца count"
   ]
  },
  {
   "cell_type": "code",
   "execution_count": 25,
   "metadata": {
    "id": "ttn78Zaene7a"
   },
   "outputs": [
    {
     "data": {
      "text/html": [
       "<div>\n",
       "<style scoped>\n",
       "    .dataframe tbody tr th:only-of-type {\n",
       "        vertical-align: middle;\n",
       "    }\n",
       "\n",
       "    .dataframe tbody tr th {\n",
       "        vertical-align: top;\n",
       "    }\n",
       "\n",
       "    .dataframe thead th {\n",
       "        text-align: right;\n",
       "    }\n",
       "</style>\n",
       "<table border=\"1\" class=\"dataframe\">\n",
       "  <thead>\n",
       "    <tr style=\"text-align: right;\">\n",
       "      <th></th>\n",
       "      <th>Marital_Status</th>\n",
       "      <th>Children</th>\n",
       "      <th>count</th>\n",
       "    </tr>\n",
       "  </thead>\n",
       "  <tbody>\n",
       "    <tr>\n",
       "      <th>0</th>\n",
       "      <td>Married</td>\n",
       "      <td>0</td>\n",
       "      <td>169</td>\n",
       "    </tr>\n",
       "    <tr>\n",
       "      <th>1</th>\n",
       "      <td>Married</td>\n",
       "      <td>1</td>\n",
       "      <td>125</td>\n",
       "    </tr>\n",
       "    <tr>\n",
       "      <th>2</th>\n",
       "      <td>Together</td>\n",
       "      <td>0</td>\n",
       "      <td>124</td>\n",
       "    </tr>\n",
       "    <tr>\n",
       "      <th>3</th>\n",
       "      <td>Single</td>\n",
       "      <td>0</td>\n",
       "      <td>98</td>\n",
       "    </tr>\n",
       "    <tr>\n",
       "      <th>4</th>\n",
       "      <td>Single</td>\n",
       "      <td>1</td>\n",
       "      <td>76</td>\n",
       "    </tr>\n",
       "    <tr>\n",
       "      <th>5</th>\n",
       "      <td>Together</td>\n",
       "      <td>1</td>\n",
       "      <td>66</td>\n",
       "    </tr>\n",
       "    <tr>\n",
       "      <th>6</th>\n",
       "      <td>Divorced</td>\n",
       "      <td>0</td>\n",
       "      <td>52</td>\n",
       "    </tr>\n",
       "    <tr>\n",
       "      <th>7</th>\n",
       "      <td>Divorced</td>\n",
       "      <td>1</td>\n",
       "      <td>31</td>\n",
       "    </tr>\n",
       "    <tr>\n",
       "      <th>8</th>\n",
       "      <td>Widow</td>\n",
       "      <td>0</td>\n",
       "      <td>24</td>\n",
       "    </tr>\n",
       "    <tr>\n",
       "      <th>9</th>\n",
       "      <td>Married</td>\n",
       "      <td>2</td>\n",
       "      <td>12</td>\n",
       "    </tr>\n",
       "    <tr>\n",
       "      <th>10</th>\n",
       "      <td>Widow</td>\n",
       "      <td>1</td>\n",
       "      <td>5</td>\n",
       "    </tr>\n",
       "    <tr>\n",
       "      <th>11</th>\n",
       "      <td>Single</td>\n",
       "      <td>2</td>\n",
       "      <td>4</td>\n",
       "    </tr>\n",
       "    <tr>\n",
       "      <th>12</th>\n",
       "      <td>Together</td>\n",
       "      <td>2</td>\n",
       "      <td>3</td>\n",
       "    </tr>\n",
       "    <tr>\n",
       "      <th>13</th>\n",
       "      <td>Divorced</td>\n",
       "      <td>2</td>\n",
       "      <td>2</td>\n",
       "    </tr>\n",
       "  </tbody>\n",
       "</table>\n",
       "</div>"
      ],
      "text/plain": [
       "   Marital_Status  Children  count\n",
       "0         Married         0    169\n",
       "1         Married         1    125\n",
       "2        Together         0    124\n",
       "3          Single         0     98\n",
       "4          Single         1     76\n",
       "5        Together         1     66\n",
       "6        Divorced         0     52\n",
       "7        Divorced         1     31\n",
       "8           Widow         0     24\n",
       "9         Married         2     12\n",
       "10          Widow         1      5\n",
       "11         Single         2      4\n",
       "12       Together         2      3\n",
       "13       Divorced         2      2"
      ]
     },
     "execution_count": 25,
     "metadata": {},
     "output_type": "execute_result"
    }
   ],
   "source": [
    "# выполните группировку согласно варианту\n",
    "df_child = df.groupby(['Marital_Status', 'Children'])['Children']\\\n",
    "    .count().sort_values(ascending = False).reset_index(name=\"count\")\n",
    "df_child"
   ]
  },
  {
   "cell_type": "markdown",
   "metadata": {
    "id": "HCyyeAu6ne7a"
   },
   "source": [
    "**`Сделайте вывод - интерпретацию - что можно увидеть из результата данной группировки?`**"
   ]
  },
  {
   "cell_type": "markdown",
   "metadata": {},
   "source": [
    "Из таблицы видно, что большинство клиентов состоят в браке или в отношениях (Married, Together) и чаще всего у них нет детей или только один ребёнок. Холостых и разведённых тоже много, но они заметно реже встречаются с детьми. Вдовцов очень мало.\n",
    "\n",
    "Итог: основная аудитория — семейные пары без детей или с одним ребёнком."
   ]
  },
  {
   "cell_type": "markdown",
   "metadata": {
    "id": "NKLZ0m7Nne7b"
   },
   "source": [
    "---\n",
    "\n",
    "**Обратите внимание, что на защите вы должны ориентироваться в синтаксисе. При необходимости нужно быть готовым изменить код по просьбе преподавателя. Например, вместо среднего значения подсчитать медиану и т.д.**\n",
    "\n",
    "\n",
    " ---"
   ]
  },
  {
   "cell_type": "markdown",
   "metadata": {
    "id": "_3fHGp64nhUJ"
   },
   "source": [
    "#### Задание 3"
   ]
  },
  {
   "cell_type": "markdown",
   "metadata": {
    "id": "_Bc4ehyKnhUJ"
   },
   "source": [
    "*`Сводная таблица (pivot_table) - средний доход семьи по семейному\n",
    "положению. Отсортировать по убыванию. Округлить до двух знаков.`*"
   ]
  },
  {
   "cell_type": "code",
   "execution_count": 26,
   "metadata": {},
   "outputs": [
    {
     "data": {
      "text/html": [
       "<div>\n",
       "<style scoped>\n",
       "    .dataframe tbody tr th:only-of-type {\n",
       "        vertical-align: middle;\n",
       "    }\n",
       "\n",
       "    .dataframe tbody tr th {\n",
       "        vertical-align: top;\n",
       "    }\n",
       "\n",
       "    .dataframe thead th {\n",
       "        text-align: right;\n",
       "    }\n",
       "</style>\n",
       "<table border=\"1\" class=\"dataframe\">\n",
       "  <thead>\n",
       "    <tr style=\"text-align: right;\">\n",
       "      <th></th>\n",
       "      <th>ID</th>\n",
       "      <th>Year_Birth</th>\n",
       "      <th>Education</th>\n",
       "      <th>Marital_Status</th>\n",
       "      <th>Income</th>\n",
       "      <th>Children</th>\n",
       "      <th>Date_Registration</th>\n",
       "      <th>Quantity_Purchases</th>\n",
       "    </tr>\n",
       "  </thead>\n",
       "  <tbody>\n",
       "    <tr>\n",
       "      <th>0</th>\n",
       "      <td>5524</td>\n",
       "      <td>1957</td>\n",
       "      <td>Graduation</td>\n",
       "      <td>Single</td>\n",
       "      <td>58138.0</td>\n",
       "      <td>0</td>\n",
       "      <td>2012-09-04</td>\n",
       "      <td>3</td>\n",
       "    </tr>\n",
       "    <tr>\n",
       "      <th>1</th>\n",
       "      <td>2174</td>\n",
       "      <td>1954</td>\n",
       "      <td>Graduation</td>\n",
       "      <td>Single</td>\n",
       "      <td>46344.0</td>\n",
       "      <td>1</td>\n",
       "      <td>2014-03-08</td>\n",
       "      <td>2</td>\n",
       "    </tr>\n",
       "    <tr>\n",
       "      <th>2</th>\n",
       "      <td>4141</td>\n",
       "      <td>1965</td>\n",
       "      <td>Graduation</td>\n",
       "      <td>Together</td>\n",
       "      <td>71613.0</td>\n",
       "      <td>0</td>\n",
       "      <td>2013-08-21</td>\n",
       "      <td>1</td>\n",
       "    </tr>\n",
       "    <tr>\n",
       "      <th>3</th>\n",
       "      <td>6182</td>\n",
       "      <td>1984</td>\n",
       "      <td>Graduation</td>\n",
       "      <td>Together</td>\n",
       "      <td>26646.0</td>\n",
       "      <td>1</td>\n",
       "      <td>2014-02-10</td>\n",
       "      <td>2</td>\n",
       "    </tr>\n",
       "    <tr>\n",
       "      <th>4</th>\n",
       "      <td>5324</td>\n",
       "      <td>1981</td>\n",
       "      <td>PhD</td>\n",
       "      <td>Married</td>\n",
       "      <td>58293.0</td>\n",
       "      <td>1</td>\n",
       "      <td>2014-01-19</td>\n",
       "      <td>5</td>\n",
       "    </tr>\n",
       "  </tbody>\n",
       "</table>\n",
       "</div>"
      ],
      "text/plain": [
       "     ID  Year_Birth   Education Marital_Status   Income  Children  \\\n",
       "0  5524        1957  Graduation         Single  58138.0         0   \n",
       "1  2174        1954  Graduation         Single  46344.0         1   \n",
       "2  4141        1965  Graduation       Together  71613.0         0   \n",
       "3  6182        1984  Graduation       Together  26646.0         1   \n",
       "4  5324        1981         PhD        Married  58293.0         1   \n",
       "\n",
       "  Date_Registration  Quantity_Purchases  \n",
       "0        2012-09-04                   3  \n",
       "1        2014-03-08                   2  \n",
       "2        2013-08-21                   1  \n",
       "3        2014-02-10                   2  \n",
       "4        2014-01-19                   5  "
      ]
     },
     "execution_count": 26,
     "metadata": {},
     "output_type": "execute_result"
    }
   ],
   "source": [
    "df.head()"
   ]
  },
  {
   "cell_type": "code",
   "execution_count": 27,
   "metadata": {
    "id": "siDovPvQnhUJ",
    "scrolled": true
   },
   "outputs": [],
   "source": [
    "# выполните сводную таблицу согласно варианту\n",
    "df_mean_income = df.pivot_table(index=['Marital_Status'], values='Income', aggfunc='mean')"
   ]
  },
  {
   "cell_type": "code",
   "execution_count": 28,
   "metadata": {},
   "outputs": [
    {
     "data": {
      "text/html": [
       "<div>\n",
       "<style scoped>\n",
       "    .dataframe tbody tr th:only-of-type {\n",
       "        vertical-align: middle;\n",
       "    }\n",
       "\n",
       "    .dataframe tbody tr th {\n",
       "        vertical-align: top;\n",
       "    }\n",
       "\n",
       "    .dataframe thead th {\n",
       "        text-align: right;\n",
       "    }\n",
       "</style>\n",
       "<table border=\"1\" class=\"dataframe\">\n",
       "  <thead>\n",
       "    <tr style=\"text-align: right;\">\n",
       "      <th></th>\n",
       "      <th>Income</th>\n",
       "    </tr>\n",
       "    <tr>\n",
       "      <th>Marital_Status</th>\n",
       "      <th></th>\n",
       "    </tr>\n",
       "  </thead>\n",
       "  <tbody>\n",
       "    <tr>\n",
       "      <th>Widow</th>\n",
       "      <td>55452.45</td>\n",
       "    </tr>\n",
       "    <tr>\n",
       "      <th>Divorced</th>\n",
       "      <td>54568.16</td>\n",
       "    </tr>\n",
       "    <tr>\n",
       "      <th>Together</th>\n",
       "      <td>54495.73</td>\n",
       "    </tr>\n",
       "    <tr>\n",
       "      <th>Married</th>\n",
       "      <td>52901.37</td>\n",
       "    </tr>\n",
       "    <tr>\n",
       "      <th>Single</th>\n",
       "      <td>51008.06</td>\n",
       "    </tr>\n",
       "  </tbody>\n",
       "</table>\n",
       "</div>"
      ],
      "text/plain": [
       "                  Income\n",
       "Marital_Status          \n",
       "Widow           55452.45\n",
       "Divorced        54568.16\n",
       "Together        54495.73\n",
       "Married         52901.37\n",
       "Single          51008.06"
      ]
     },
     "execution_count": 28,
     "metadata": {},
     "output_type": "execute_result"
    }
   ],
   "source": [
    "df_mean_income = df_mean_income.sort_values(by=\"Income\", ascending=False).round(2)\n",
    "df_mean_income"
   ]
  },
  {
   "cell_type": "markdown",
   "metadata": {
    "id": "1-vw8iyUnhUK"
   },
   "source": [
    "**`Сделайте вывод - интерпретацию - что можно увидеть из результата данной сводной таблицы?`**"
   ]
  },
  {
   "cell_type": "markdown",
   "metadata": {},
   "source": [
    "Более высокий доход характерен для людей, которые уже были или находятся в долгосрочных отношениях (вдовы, разведённые, сожители), а наименьший — у одиноких."
   ]
  },
  {
   "cell_type": "markdown",
   "metadata": {
    "id": "wKFm0zDenhUK"
   },
   "source": [
    "---\n",
    "\n",
    "**Обратите внимание, что на защите вы должны ориентироваться в синтаксисе. При необходимости нужно быть готовым изменить код по просьбе преподавателя. Например, вместо среднего значения подсчитать медиану и т.д.**\n",
    "\n",
    "\n",
    " ---"
   ]
  },
  {
   "cell_type": "markdown",
   "metadata": {
    "id": "FOlw74xCniNo"
   },
   "source": [
    "#### Задание 4"
   ]
  },
  {
   "cell_type": "markdown",
   "metadata": {
    "id": "4tvYwT25niNq"
   },
   "source": [
    "*` Сводная таблица (pivot_table) - среднее количество покупок по уровню\n",
    "образованию - строки и году рождения - столбцы. Отсортировать по возрастанию\n",
    "education. Округлить до двух знаков`*"
   ]
  },
  {
   "cell_type": "code",
   "execution_count": 29,
   "metadata": {
    "id": "TfJ719g6niNq"
   },
   "outputs": [],
   "source": [
    "# выполните сводную таблицу согласно варианту\n",
    "df_mean_purchases = df.pivot_table(index=['Education'], columns = 'Year_Birth', values='Quantity_Purchases', aggfunc='mean')"
   ]
  },
  {
   "cell_type": "code",
   "execution_count": 30,
   "metadata": {},
   "outputs": [
    {
     "data": {
      "text/html": [
       "<div>\n",
       "<style scoped>\n",
       "    .dataframe tbody tr th:only-of-type {\n",
       "        vertical-align: middle;\n",
       "    }\n",
       "\n",
       "    .dataframe tbody tr th {\n",
       "        vertical-align: top;\n",
       "    }\n",
       "\n",
       "    .dataframe thead th {\n",
       "        text-align: right;\n",
       "    }\n",
       "</style>\n",
       "<table border=\"1\" class=\"dataframe\">\n",
       "  <thead>\n",
       "    <tr style=\"text-align: right;\">\n",
       "      <th>Year_Birth</th>\n",
       "      <th>1899</th>\n",
       "      <th>1941</th>\n",
       "      <th>1943</th>\n",
       "      <th>1944</th>\n",
       "      <th>1945</th>\n",
       "      <th>1946</th>\n",
       "      <th>1947</th>\n",
       "      <th>1948</th>\n",
       "      <th>1949</th>\n",
       "      <th>1950</th>\n",
       "      <th>...</th>\n",
       "      <th>1986</th>\n",
       "      <th>1987</th>\n",
       "      <th>1988</th>\n",
       "      <th>1989</th>\n",
       "      <th>1990</th>\n",
       "      <th>1991</th>\n",
       "      <th>1992</th>\n",
       "      <th>1993</th>\n",
       "      <th>1994</th>\n",
       "      <th>1995</th>\n",
       "    </tr>\n",
       "    <tr>\n",
       "      <th>Education</th>\n",
       "      <th></th>\n",
       "      <th></th>\n",
       "      <th></th>\n",
       "      <th></th>\n",
       "      <th></th>\n",
       "      <th></th>\n",
       "      <th></th>\n",
       "      <th></th>\n",
       "      <th></th>\n",
       "      <th></th>\n",
       "      <th></th>\n",
       "      <th></th>\n",
       "      <th></th>\n",
       "      <th></th>\n",
       "      <th></th>\n",
       "      <th></th>\n",
       "      <th></th>\n",
       "      <th></th>\n",
       "      <th></th>\n",
       "      <th></th>\n",
       "      <th></th>\n",
       "    </tr>\n",
       "  </thead>\n",
       "  <tbody>\n",
       "    <tr>\n",
       "      <th>Basic</th>\n",
       "      <td>NaN</td>\n",
       "      <td>NaN</td>\n",
       "      <td>NaN</td>\n",
       "      <td>NaN</td>\n",
       "      <td>NaN</td>\n",
       "      <td>NaN</td>\n",
       "      <td>NaN</td>\n",
       "      <td>NaN</td>\n",
       "      <td>NaN</td>\n",
       "      <td>NaN</td>\n",
       "      <td>...</td>\n",
       "      <td>2.00</td>\n",
       "      <td>2.00</td>\n",
       "      <td>NaN</td>\n",
       "      <td>1.00</td>\n",
       "      <td>1.0</td>\n",
       "      <td>NaN</td>\n",
       "      <td>NaN</td>\n",
       "      <td>NaN</td>\n",
       "      <td>NaN</td>\n",
       "      <td>NaN</td>\n",
       "    </tr>\n",
       "    <tr>\n",
       "      <th>Graduation</th>\n",
       "      <td>NaN</td>\n",
       "      <td>NaN</td>\n",
       "      <td>NaN</td>\n",
       "      <td>1.0</td>\n",
       "      <td>NaN</td>\n",
       "      <td>1.67</td>\n",
       "      <td>1.0</td>\n",
       "      <td>1.00</td>\n",
       "      <td>1.0</td>\n",
       "      <td>2.00</td>\n",
       "      <td>...</td>\n",
       "      <td>1.12</td>\n",
       "      <td>1.67</td>\n",
       "      <td>1.92</td>\n",
       "      <td>1.78</td>\n",
       "      <td>1.0</td>\n",
       "      <td>1.0</td>\n",
       "      <td>1.0</td>\n",
       "      <td>1.0</td>\n",
       "      <td>1.0</td>\n",
       "      <td>1.0</td>\n",
       "    </tr>\n",
       "    <tr>\n",
       "      <th>Master</th>\n",
       "      <td>NaN</td>\n",
       "      <td>NaN</td>\n",
       "      <td>1.0</td>\n",
       "      <td>1.0</td>\n",
       "      <td>1.0</td>\n",
       "      <td>1.00</td>\n",
       "      <td>1.0</td>\n",
       "      <td>1.00</td>\n",
       "      <td>2.2</td>\n",
       "      <td>5.00</td>\n",
       "      <td>...</td>\n",
       "      <td>2.50</td>\n",
       "      <td>1.00</td>\n",
       "      <td>1.00</td>\n",
       "      <td>2.00</td>\n",
       "      <td>NaN</td>\n",
       "      <td>NaN</td>\n",
       "      <td>1.0</td>\n",
       "      <td>NaN</td>\n",
       "      <td>NaN</td>\n",
       "      <td>NaN</td>\n",
       "    </tr>\n",
       "    <tr>\n",
       "      <th>PhD</th>\n",
       "      <td>1.0</td>\n",
       "      <td>0.0</td>\n",
       "      <td>1.5</td>\n",
       "      <td>1.0</td>\n",
       "      <td>1.5</td>\n",
       "      <td>2.00</td>\n",
       "      <td>1.0</td>\n",
       "      <td>2.43</td>\n",
       "      <td>2.5</td>\n",
       "      <td>1.67</td>\n",
       "      <td>...</td>\n",
       "      <td>1.50</td>\n",
       "      <td>NaN</td>\n",
       "      <td>1.00</td>\n",
       "      <td>1.00</td>\n",
       "      <td>NaN</td>\n",
       "      <td>1.0</td>\n",
       "      <td>NaN</td>\n",
       "      <td>NaN</td>\n",
       "      <td>NaN</td>\n",
       "      <td>NaN</td>\n",
       "    </tr>\n",
       "  </tbody>\n",
       "</table>\n",
       "<p>4 rows × 55 columns</p>\n",
       "</div>"
      ],
      "text/plain": [
       "Year_Birth  1899  1941  1943  1944  1945  1946  1947  1948  1949  1950  ...  \\\n",
       "Education                                                               ...   \n",
       "Basic        NaN   NaN   NaN   NaN   NaN   NaN   NaN   NaN   NaN   NaN  ...   \n",
       "Graduation   NaN   NaN   NaN   1.0   NaN  1.67   1.0  1.00   1.0  2.00  ...   \n",
       "Master       NaN   NaN   1.0   1.0   1.0  1.00   1.0  1.00   2.2  5.00  ...   \n",
       "PhD          1.0   0.0   1.5   1.0   1.5  2.00   1.0  2.43   2.5  1.67  ...   \n",
       "\n",
       "Year_Birth  1986  1987  1988  1989  1990  1991  1992  1993  1994  1995  \n",
       "Education                                                               \n",
       "Basic       2.00  2.00   NaN  1.00   1.0   NaN   NaN   NaN   NaN   NaN  \n",
       "Graduation  1.12  1.67  1.92  1.78   1.0   1.0   1.0   1.0   1.0   1.0  \n",
       "Master      2.50  1.00  1.00  2.00   NaN   NaN   1.0   NaN   NaN   NaN  \n",
       "PhD         1.50   NaN  1.00  1.00   NaN   1.0   NaN   NaN   NaN   NaN  \n",
       "\n",
       "[4 rows x 55 columns]"
      ]
     },
     "execution_count": 30,
     "metadata": {},
     "output_type": "execute_result"
    }
   ],
   "source": [
    "df_mean_purchases = df_mean_purchases.round(2).sort_index()\n",
    "df_mean_purchases"
   ]
  },
  {
   "cell_type": "markdown",
   "metadata": {},
   "source": [
    "Уровень образования влияет на среднее количество покупок. Люди с PhD и Master чаще совершают больше покупок (значения 2.0 и выше встречаются чаще). У людей с Graduation средние значения стабильные, но чуть ниже (в районе 1.0–1.9). У обладателей Basic образования покупки встречаются редко (данных мало, в основном 1–2 покупки, много пропусков). Также видно, что для разных годов рождения есть разброс, но глобально тренд такой: чем выше образование, тем активнее совершают покупки. Эти выводы можно подтвердить сделав сводную таблицу средних покупок по образованию без разграничения по году рождения."
   ]
  },
  {
   "cell_type": "code",
   "execution_count": 31,
   "metadata": {},
   "outputs": [
    {
     "data": {
      "text/html": [
       "<div>\n",
       "<style scoped>\n",
       "    .dataframe tbody tr th:only-of-type {\n",
       "        vertical-align: middle;\n",
       "    }\n",
       "\n",
       "    .dataframe tbody tr th {\n",
       "        vertical-align: top;\n",
       "    }\n",
       "\n",
       "    .dataframe thead th {\n",
       "        text-align: right;\n",
       "    }\n",
       "</style>\n",
       "<table border=\"1\" class=\"dataframe\">\n",
       "  <thead>\n",
       "    <tr style=\"text-align: right;\">\n",
       "      <th></th>\n",
       "      <th>Quantity_Purchases</th>\n",
       "    </tr>\n",
       "    <tr>\n",
       "      <th>Education</th>\n",
       "      <th></th>\n",
       "    </tr>\n",
       "  </thead>\n",
       "  <tbody>\n",
       "    <tr>\n",
       "      <th>Basic</th>\n",
       "      <td>1.400000</td>\n",
       "    </tr>\n",
       "    <tr>\n",
       "      <th>Graduation</th>\n",
       "      <td>2.177677</td>\n",
       "    </tr>\n",
       "    <tr>\n",
       "      <th>Master</th>\n",
       "      <td>2.523810</td>\n",
       "    </tr>\n",
       "    <tr>\n",
       "      <th>PhD</th>\n",
       "      <td>2.547368</td>\n",
       "    </tr>\n",
       "  </tbody>\n",
       "</table>\n",
       "</div>"
      ],
      "text/plain": [
       "            Quantity_Purchases\n",
       "Education                     \n",
       "Basic                 1.400000\n",
       "Graduation            2.177677\n",
       "Master                2.523810\n",
       "PhD                   2.547368"
      ]
     },
     "execution_count": 31,
     "metadata": {},
     "output_type": "execute_result"
    }
   ],
   "source": [
    "df.pivot_table(index=['Education'], values='Quantity_Purchases', aggfunc='mean')"
   ]
  },
  {
   "cell_type": "markdown",
   "metadata": {
    "id": "yqJqvk5qniNr"
   },
   "source": [
    "**`Сделайте вывод - интерпретацию - что можно увидеть из результата выполнения данного кода?`**"
   ]
  },
  {
   "cell_type": "markdown",
   "metadata": {
    "id": "tIkuqJKUniNs"
   },
   "source": [
    "---\n",
    "\n",
    "**Обратите внимание, что на защите вы должны ориентироваться в синтаксисе. При необходимости нужно быть готовым изменить код по просьбе преподавателя. Например, вместо среднего значения подсчитать медиану и т.д.**\n",
    "\n",
    "\n",
    " ---"
   ]
  },
  {
   "cell_type": "markdown",
   "metadata": {
    "id": "TpnXb6gip3S8"
   },
   "source": [
    "### Вывод"
   ]
  },
  {
   "cell_type": "markdown",
   "metadata": {
    "id": "nqLa096jM1Z8"
   },
   "source": [
    "\n",
    "***`Сделать расширенный вывод. `***\n",
    "\n",
    "Вывод должен описывать результаты исследования: какой набор данных вы анализировали (предметная область), какие методы предобработки применили, какие выводы из группировок и сводных таблиц можно сделать (они могут повторять выводы выше) и т.п. Объём вывода, как правило не более 0.5-0.75 страницы А4, всё таки вывод должен быть конкретным (без теории и “воды”).\n"
   ]
  },
  {
   "cell_type": "markdown",
   "metadata": {},
   "source": [
    "В работе был проведён анализ набора данных, содержащего информацию о клиентах магазина. Данные включали уникальный идентификатор клиента, год рождения, уровень образования, семейное положение, годовой доход семьи, количество детей, дату регистрации и количество покупок.\n",
    "\n",
    "Перед анализом была выполнена предобработка данных: проверка наличия пропусков, преобразование типов данных (например, перевод некоторых столбцов к числовым типам), а также использование методов группировки и сводных таблиц для выявления закономерностей.\n",
    "\n",
    "Проведённый анализ показал, что уровень образования и семейное положение оказывают заметное влияние на поведение клиентов. Так, клиенты с образованием уровня Master и PhD совершают больше покупок, чем обладатели базового образования. Также выявлено, что семейные пары и сожители покупают чаще, чем одинокие клиенты, а наибольший средний доход наблюдается у вдовцов и разведённых.\n",
    "\n",
    "В целом результаты анализа показывают, что ключевая группа клиентов магазина — это семейные пары со средним или высоким уровнем образования, в основном без детей или с одним ребёнком, обладающие стабильным доходом и демонстрирующие более высокую покупательскую активность. Эти данные могут быть полезны для сегментации аудитории и разработки маркетинговых стратегий."
   ]
  },
  {
   "cell_type": "markdown",
   "metadata": {
    "id": "Sn3y7og_vjGG"
   },
   "source": [
    "### Дополнительное задание"
   ]
  },
  {
   "cell_type": "markdown",
   "metadata": {
    "id": "rR6WgHXYvlqD"
   },
   "source": [
    "**`Подробная формулировка задания`**"
   ]
  },
  {
   "cell_type": "markdown",
   "metadata": {
    "id": "wG5TGQpevlBq"
   },
   "source": [
    "номера заданий\n",
    "2\n",
    "8\n",
    "16\n",
    "23"
   ]
  },
  {
   "cell_type": "markdown",
   "metadata": {},
   "source": [
    "2. Создать столбец - возраст (расчетный). Создать столбец “Категория\n",
    "возраста (Year_Birth)” (с помощью категоризации). Выделить минимум 3\n",
    "категории (молодой, старый, средний), фильтрацию для уровня возраста\n",
    "выбрать самостоятельно, аргументировать выбор. Создать сводную\n",
    "таблицу: средний и медианный возраст по Marital_Status и категории\n",
    "возраста."
   ]
  },
  {
   "cell_type": "code",
   "execution_count": 32,
   "metadata": {},
   "outputs": [
    {
     "data": {
      "text/html": [
       "<div>\n",
       "<style scoped>\n",
       "    .dataframe tbody tr th:only-of-type {\n",
       "        vertical-align: middle;\n",
       "    }\n",
       "\n",
       "    .dataframe tbody tr th {\n",
       "        vertical-align: top;\n",
       "    }\n",
       "\n",
       "    .dataframe thead tr th {\n",
       "        text-align: left;\n",
       "    }\n",
       "\n",
       "    .dataframe thead tr:last-of-type th {\n",
       "        text-align: right;\n",
       "    }\n",
       "</style>\n",
       "<table border=\"1\" class=\"dataframe\">\n",
       "  <thead>\n",
       "    <tr>\n",
       "      <th></th>\n",
       "      <th colspan=\"3\" halign=\"left\">mean</th>\n",
       "      <th colspan=\"3\" halign=\"left\">median</th>\n",
       "    </tr>\n",
       "    <tr>\n",
       "      <th>Age_Category</th>\n",
       "      <th>Молодой</th>\n",
       "      <th>Средний</th>\n",
       "      <th>Старый</th>\n",
       "      <th>Молодой</th>\n",
       "      <th>Средний</th>\n",
       "      <th>Старый</th>\n",
       "    </tr>\n",
       "    <tr>\n",
       "      <th>Marital_Status</th>\n",
       "      <th></th>\n",
       "      <th></th>\n",
       "      <th></th>\n",
       "      <th></th>\n",
       "      <th></th>\n",
       "      <th></th>\n",
       "    </tr>\n",
       "  </thead>\n",
       "  <tbody>\n",
       "    <tr>\n",
       "      <th>Divorced</th>\n",
       "      <td>NaN</td>\n",
       "      <td>49.1</td>\n",
       "      <td>65.6</td>\n",
       "      <td>NaN</td>\n",
       "      <td>49.0</td>\n",
       "      <td>64.0</td>\n",
       "    </tr>\n",
       "    <tr>\n",
       "      <th>Married</th>\n",
       "      <td>33.5</td>\n",
       "      <td>47.3</td>\n",
       "      <td>65.9</td>\n",
       "      <td>33.5</td>\n",
       "      <td>49.0</td>\n",
       "      <td>65.0</td>\n",
       "    </tr>\n",
       "    <tr>\n",
       "      <th>Single</th>\n",
       "      <td>32.3</td>\n",
       "      <td>46.2</td>\n",
       "      <td>65.5</td>\n",
       "      <td>33.0</td>\n",
       "      <td>47.0</td>\n",
       "      <td>65.0</td>\n",
       "    </tr>\n",
       "    <tr>\n",
       "      <th>Together</th>\n",
       "      <td>33.0</td>\n",
       "      <td>47.5</td>\n",
       "      <td>67.3</td>\n",
       "      <td>33.5</td>\n",
       "      <td>48.0</td>\n",
       "      <td>67.0</td>\n",
       "    </tr>\n",
       "    <tr>\n",
       "      <th>Widow</th>\n",
       "      <td>NaN</td>\n",
       "      <td>51.9</td>\n",
       "      <td>68.0</td>\n",
       "      <td>NaN</td>\n",
       "      <td>52.0</td>\n",
       "      <td>69.0</td>\n",
       "    </tr>\n",
       "  </tbody>\n",
       "</table>\n",
       "</div>"
      ],
      "text/plain": [
       "                  mean                 median               \n",
       "Age_Category   Молодой Средний Старый Молодой Средний Старый\n",
       "Marital_Status                                              \n",
       "Divorced           NaN    49.1   65.6     NaN    49.0   64.0\n",
       "Married           33.5    47.3   65.9    33.5    49.0   65.0\n",
       "Single            32.3    46.2   65.5    33.0    47.0   65.0\n",
       "Together          33.0    47.5   67.3    33.5    48.0   67.0\n",
       "Widow              NaN    51.9   68.0     NaN    52.0   69.0"
      ]
     },
     "execution_count": 32,
     "metadata": {},
     "output_type": "execute_result"
    }
   ],
   "source": [
    "# Рассчитаем возраст\n",
    "df['Age'] = 2025 - df['Year_Birth']  # берём текущий год 2025, чтобы пример был актуален\n",
    "\n",
    "# Категории возраста: молодой (<35), средний (35-55), старый (>55)\n",
    "bins = [0, 34, 55, 100]\n",
    "labels = ['Молодой', 'Средний', 'Старый']\n",
    "df['Age_Category'] = pd.cut(df['Age'], bins=bins, labels=labels)\n",
    "\n",
    "# Создание сводной таблицы: средний и медианный возраст по семейному положению и категории возраста\n",
    "pivot_age = df.pivot_table(\n",
    "    index='Marital_Status',\n",
    "    columns='Age_Category',\n",
    "    values='Age',\n",
    "    aggfunc=['mean', 'median'],\n",
    "    observed=False\n",
    ").round(1)\n",
    "\n",
    "pivot_age"
   ]
  },
  {
   "cell_type": "markdown",
   "metadata": {},
   "source": [
    "Вывод:\n",
    "Средний и медианный возраст естественно растёт от категории «Молодой» к «Старый».\n",
    "\n",
    "Молодые категории почти отсутствуют среди вдовцов и разведённых, что логично.\n",
    "\n",
    "Наибольший возраст наблюдается у «Старых» вдовцов и людей в отношениях (Together).\n",
    "\n",
    "В целом таблица подтверждает корректность классификации возраста и показывает распределение возрастных категорий по семейному положению."
   ]
  },
  {
   "cell_type": "markdown",
   "metadata": {},
   "source": [
    "8. Создать столбец “Категория дохода (Income)” (с помощью категоризации).\n",
    "Выделить минимум 3 категории (высокий, низкий, средний), фильтрацию\n",
    "для уровня дохода выбрать самостоятельно, аргументировать выбор.\n",
    "Создать группировки: средний, максимальный, минимальный и медианный\n",
    "NumDealsPurchases категории дохода и средний, максимальный,\n",
    "минимальный и медианный Income по категории дохода."
   ]
  },
  {
   "cell_type": "code",
   "execution_count": 33,
   "metadata": {},
   "outputs": [
    {
     "data": {
      "text/html": [
       "<div>\n",
       "<style scoped>\n",
       "    .dataframe tbody tr th:only-of-type {\n",
       "        vertical-align: middle;\n",
       "    }\n",
       "\n",
       "    .dataframe tbody tr th {\n",
       "        vertical-align: top;\n",
       "    }\n",
       "\n",
       "    .dataframe thead tr th {\n",
       "        text-align: left;\n",
       "    }\n",
       "\n",
       "    .dataframe thead tr:last-of-type th {\n",
       "        text-align: right;\n",
       "    }\n",
       "</style>\n",
       "<table border=\"1\" class=\"dataframe\">\n",
       "  <thead>\n",
       "    <tr>\n",
       "      <th></th>\n",
       "      <th colspan=\"4\" halign=\"left\">Quantity_Purchases</th>\n",
       "      <th colspan=\"4\" halign=\"left\">Income</th>\n",
       "    </tr>\n",
       "    <tr>\n",
       "      <th></th>\n",
       "      <th>mean</th>\n",
       "      <th>max</th>\n",
       "      <th>min</th>\n",
       "      <th>median</th>\n",
       "      <th>mean</th>\n",
       "      <th>max</th>\n",
       "      <th>min</th>\n",
       "      <th>median</th>\n",
       "    </tr>\n",
       "    <tr>\n",
       "      <th>Income_Category</th>\n",
       "      <th></th>\n",
       "      <th></th>\n",
       "      <th></th>\n",
       "      <th></th>\n",
       "      <th></th>\n",
       "      <th></th>\n",
       "      <th></th>\n",
       "      <th></th>\n",
       "    </tr>\n",
       "  </thead>\n",
       "  <tbody>\n",
       "    <tr>\n",
       "      <th>Низкий</th>\n",
       "      <td>2.0</td>\n",
       "      <td>15</td>\n",
       "      <td>0</td>\n",
       "      <td>2.0</td>\n",
       "      <td>28137.1</td>\n",
       "      <td>39747.0</td>\n",
       "      <td>2447.0</td>\n",
       "      <td>29968.5</td>\n",
       "    </tr>\n",
       "    <tr>\n",
       "      <th>Средний</th>\n",
       "      <td>3.0</td>\n",
       "      <td>13</td>\n",
       "      <td>0</td>\n",
       "      <td>2.0</td>\n",
       "      <td>55066.5</td>\n",
       "      <td>69882.0</td>\n",
       "      <td>40049.0</td>\n",
       "      <td>54456.0</td>\n",
       "    </tr>\n",
       "    <tr>\n",
       "      <th>Высокий</th>\n",
       "      <td>1.5</td>\n",
       "      <td>15</td>\n",
       "      <td>0</td>\n",
       "      <td>1.0</td>\n",
       "      <td>81039.6</td>\n",
       "      <td>162397.0</td>\n",
       "      <td>70165.0</td>\n",
       "      <td>78935.0</td>\n",
       "    </tr>\n",
       "  </tbody>\n",
       "</table>\n",
       "</div>"
      ],
      "text/plain": [
       "                Quantity_Purchases                  Income                     \\\n",
       "                              mean max min median     mean       max      min   \n",
       "Income_Category                                                                 \n",
       "Низкий                         2.0  15   0    2.0  28137.1   39747.0   2447.0   \n",
       "Средний                        3.0  13   0    2.0  55066.5   69882.0  40049.0   \n",
       "Высокий                        1.5  15   0    1.0  81039.6  162397.0  70165.0   \n",
       "\n",
       "                          \n",
       "                  median  \n",
       "Income_Category           \n",
       "Низкий           29968.5  \n",
       "Средний          54456.0  \n",
       "Высокий          78935.0  "
      ]
     },
     "execution_count": 33,
     "metadata": {},
     "output_type": "execute_result"
    }
   ],
   "source": [
    "# Категории дохода: низкий (<40k), средний (40k-70k), высокий (>70k)\n",
    "bins_income = [0, 40000, 70000, df['Income'].max()]\n",
    "labels_income = ['Низкий', 'Средний', 'Высокий']\n",
    "df['Income_Category'] = pd.cut(df['Income'], bins=bins_income, labels=labels_income)\n",
    "\n",
    "# Группировки: Quantity_Purchases и Income по категории дохода\n",
    "grouped_income = df.groupby('Income_Category', observed=False).agg({\n",
    "    'Quantity_Purchases': ['mean', 'max', 'min', 'median'],\n",
    "    'Income': ['mean', 'max', 'min', 'median']\n",
    "}).round(1)\n",
    "\n",
    "grouped_income"
   ]
  },
  {
   "cell_type": "markdown",
   "metadata": {},
   "source": [
    "Вывод:\n",
    "Среднее количество покупок выше у клиентов со средним доходом (3 покупки), чуть меньше у низкого дохода (2) и минимально у высокодоходных (1,5).\n",
    "\n",
    "Максимальные покупки встречаются во всех категориях (до 15), но медианное значение показывает, что большинство высокодоходных клиентов делают меньше покупок.\n",
    "\n",
    "Доходы распределены логично: низкий доход — около 28–30 тыс., средний — 55–69 тыс., высокий — 81–162 тыс.\n",
    "\n",
    "В целом наблюдается обратная зависимость между количеством покупок и уровнем дохода: клиенты с средним доходом более активны по числу покупок."
   ]
  },
  {
   "cell_type": "markdown",
   "metadata": {},
   "source": [
    "16. Создать столбец - возраст (расчетный). Создать столбец “Категория дохода\n",
    "(Income)” (с помощью категоризации). Выделить минимум 3 категории\n",
    "(высокий, низкий, средний), фильтрацию для уровня дохода выбрать\n",
    "самостоятельно, аргументировать выбор. Выполнить фильтрацию: выбрать\n",
    "записи только с высоким доходом + людей старше определенного возраста\n",
    "(возраст выбрать самостоятельно, чтобы в выборке было достаточное\n",
    "количество записей) + топ 2 типа образования (Education) по популярности.\n",
    "Создать сводные таблицы: средний и медианный Income по категории\n",
    "дохода и Marital_Status ."
   ]
  },
  {
   "cell_type": "code",
   "execution_count": 34,
   "metadata": {},
   "outputs": [
    {
     "data": {
      "text/html": [
       "<div>\n",
       "<style scoped>\n",
       "    .dataframe tbody tr th:only-of-type {\n",
       "        vertical-align: middle;\n",
       "    }\n",
       "\n",
       "    .dataframe tbody tr th {\n",
       "        vertical-align: top;\n",
       "    }\n",
       "\n",
       "    .dataframe thead tr th {\n",
       "        text-align: left;\n",
       "    }\n",
       "\n",
       "    .dataframe thead tr:last-of-type th {\n",
       "        text-align: right;\n",
       "    }\n",
       "</style>\n",
       "<table border=\"1\" class=\"dataframe\">\n",
       "  <thead>\n",
       "    <tr>\n",
       "      <th></th>\n",
       "      <th>mean</th>\n",
       "      <th>median</th>\n",
       "    </tr>\n",
       "    <tr>\n",
       "      <th>Income_Category</th>\n",
       "      <th>Высокий</th>\n",
       "      <th>Высокий</th>\n",
       "    </tr>\n",
       "    <tr>\n",
       "      <th>Marital_Status</th>\n",
       "      <th></th>\n",
       "      <th></th>\n",
       "    </tr>\n",
       "  </thead>\n",
       "  <tbody>\n",
       "    <tr>\n",
       "      <th>Divorced</th>\n",
       "      <td>85839.4</td>\n",
       "      <td>81702.0</td>\n",
       "    </tr>\n",
       "    <tr>\n",
       "      <th>Married</th>\n",
       "      <td>81410.1</td>\n",
       "      <td>79561.5</td>\n",
       "    </tr>\n",
       "    <tr>\n",
       "      <th>Single</th>\n",
       "      <td>79670.8</td>\n",
       "      <td>79684.0</td>\n",
       "    </tr>\n",
       "    <tr>\n",
       "      <th>Together</th>\n",
       "      <td>81301.6</td>\n",
       "      <td>77337.0</td>\n",
       "    </tr>\n",
       "    <tr>\n",
       "      <th>Widow</th>\n",
       "      <td>77468.4</td>\n",
       "      <td>79800.0</td>\n",
       "    </tr>\n",
       "  </tbody>\n",
       "</table>\n",
       "</div>"
      ],
      "text/plain": [
       "                    mean   median\n",
       "Income_Category  Высокий  Высокий\n",
       "Marital_Status                   \n",
       "Divorced         85839.4  81702.0\n",
       "Married          81410.1  79561.5\n",
       "Single           79670.8  79684.0\n",
       "Together         81301.6  77337.0\n",
       "Widow            77468.4  79800.0"
      ]
     },
     "execution_count": 34,
     "metadata": {},
     "output_type": "execute_result"
    }
   ],
   "source": [
    "# Рассчёт возраста уже сделан в задании 2\n",
    "# Категории дохода уже созданы в задании 8\n",
    "\n",
    "# Определяем топ-2 образования по популярности\n",
    "top_edu = df['Education'].value_counts().nlargest(2).index\n",
    "\n",
    "# Фильтрация: высокий доход, возраст > 40, топ-2 образования\n",
    "filtered = df[\n",
    "    (df['Income_Category'] == 'Высокий') &\n",
    "    (df['Age'] > 40) &\n",
    "    (df['Education'].isin(top_edu))\n",
    "]\n",
    "\n",
    "# Сводные таблицы: средний и медианный Income по категории дохода и семейному положению\n",
    "pivot_high = filtered.pivot_table(\n",
    "    index='Marital_Status',\n",
    "    columns='Income_Category',\n",
    "    values='Income',\n",
    "    aggfunc=['mean', 'median'],\n",
    "    observed=False\n",
    ").round(1)\n",
    "\n",
    "pivot_high"
   ]
  },
  {
   "cell_type": "markdown",
   "metadata": {},
   "source": [
    "Вывод:\n",
    "Среди клиентов с высоким доходом средний и медианный доход колеблется от ~77 тыс. до ~86 тыс.\n",
    "\n",
    "Наибольший средний доход у разведённых (≈85,8 тыс.), чуть ниже — у женатых и сожителей (≈81–81,3 тыс.).\n",
    "\n",
    "Вдовцы имеют самый низкий средний доход (~77,5 тыс.), но медианный показатель немного выше, что указывает на наличие нескольких очень богатых клиентов среди других категорий.\n",
    "\n",
    "В целом различия по семейному положению не слишком большие, но разведённые клиенты демонстрируют наибольшую покупательскую финансовую активность."
   ]
  },
  {
   "cell_type": "markdown",
   "metadata": {},
   "source": [
    "23. Создать столбец - возраст (расчетный). Создать столбец “Категория\n",
    "возраста (Year_Birth)” (с помощью категоризации). Выделить минимум 3\n",
    "категории (молодой, старый, средний), фильтрацию для уровня возраста\n",
    "выбрать самостоятельно, аргументировать выбор. Создать столбец\n",
    "“Категория дохода (Income)” (с помощью категоризации). Выделить\n",
    "минимум 3 категории (высокий, низкий, средний), фильтрацию для уровня\n",
    "дохода выбрать самостоятельно, аргументировать выбор. Выполнить\n",
    "фильтрацию: выбрать записи только с низким и средним доходом + людей\n",
    "молодого и среднего возраста + топ 3 семейных статуса (Marital_Status) с\n",
    "максимальным медианным доходом + топ 2 типа образования по\n",
    "популярности. Создать сводные таблицы: средний и медианный\n",
    "NumDealsPurchases по Education и Marital_Status; средний income по\n",
    "категории дохода и Kidhome."
   ]
  },
  {
   "cell_type": "code",
   "execution_count": 35,
   "metadata": {},
   "outputs": [
    {
     "data": {
      "text/html": [
       "<div>\n",
       "<style scoped>\n",
       "    .dataframe tbody tr th:only-of-type {\n",
       "        vertical-align: middle;\n",
       "    }\n",
       "\n",
       "    .dataframe tbody tr th {\n",
       "        vertical-align: top;\n",
       "    }\n",
       "\n",
       "    .dataframe thead tr th {\n",
       "        text-align: left;\n",
       "    }\n",
       "\n",
       "    .dataframe thead tr:last-of-type th {\n",
       "        text-align: right;\n",
       "    }\n",
       "</style>\n",
       "<table border=\"1\" class=\"dataframe\">\n",
       "  <thead>\n",
       "    <tr>\n",
       "      <th></th>\n",
       "      <th colspan=\"3\" halign=\"left\">mean</th>\n",
       "      <th colspan=\"3\" halign=\"left\">median</th>\n",
       "    </tr>\n",
       "    <tr>\n",
       "      <th>Marital_Status</th>\n",
       "      <th>Divorced</th>\n",
       "      <th>Together</th>\n",
       "      <th>Widow</th>\n",
       "      <th>Divorced</th>\n",
       "      <th>Together</th>\n",
       "      <th>Widow</th>\n",
       "    </tr>\n",
       "    <tr>\n",
       "      <th>Education</th>\n",
       "      <th></th>\n",
       "      <th></th>\n",
       "      <th></th>\n",
       "      <th></th>\n",
       "      <th></th>\n",
       "      <th></th>\n",
       "    </tr>\n",
       "  </thead>\n",
       "  <tbody>\n",
       "    <tr>\n",
       "      <th>Graduation</th>\n",
       "      <td>2.4</td>\n",
       "      <td>2.0</td>\n",
       "      <td>1.9</td>\n",
       "      <td>2.0</td>\n",
       "      <td>2.0</td>\n",
       "      <td>1.5</td>\n",
       "    </tr>\n",
       "    <tr>\n",
       "      <th>PhD</th>\n",
       "      <td>2.2</td>\n",
       "      <td>2.1</td>\n",
       "      <td>NaN</td>\n",
       "      <td>2.5</td>\n",
       "      <td>1.0</td>\n",
       "      <td>NaN</td>\n",
       "    </tr>\n",
       "  </tbody>\n",
       "</table>\n",
       "</div>"
      ],
      "text/plain": [
       "                   mean                  median               \n",
       "Marital_Status Divorced Together Widow Divorced Together Widow\n",
       "Education                                                     \n",
       "Graduation          2.4      2.0   1.9      2.0      2.0   1.5\n",
       "PhD                 2.2      2.1   NaN      2.5      1.0   NaN"
      ]
     },
     "metadata": {},
     "output_type": "display_data"
    },
    {
     "data": {
      "text/html": [
       "<div>\n",
       "<style scoped>\n",
       "    .dataframe tbody tr th:only-of-type {\n",
       "        vertical-align: middle;\n",
       "    }\n",
       "\n",
       "    .dataframe tbody tr th {\n",
       "        vertical-align: top;\n",
       "    }\n",
       "\n",
       "    .dataframe thead th {\n",
       "        text-align: right;\n",
       "    }\n",
       "</style>\n",
       "<table border=\"1\" class=\"dataframe\">\n",
       "  <thead>\n",
       "    <tr style=\"text-align: right;\">\n",
       "      <th>Children</th>\n",
       "      <th>0</th>\n",
       "      <th>1</th>\n",
       "      <th>2</th>\n",
       "    </tr>\n",
       "    <tr>\n",
       "      <th>Income_Category</th>\n",
       "      <th></th>\n",
       "      <th></th>\n",
       "      <th></th>\n",
       "    </tr>\n",
       "  </thead>\n",
       "  <tbody>\n",
       "    <tr>\n",
       "      <th>Низкий</th>\n",
       "      <td>NaN</td>\n",
       "      <td>29143.2</td>\n",
       "      <td>16626.0</td>\n",
       "    </tr>\n",
       "    <tr>\n",
       "      <th>Средний</th>\n",
       "      <td>56597.5</td>\n",
       "      <td>53098.8</td>\n",
       "      <td>NaN</td>\n",
       "    </tr>\n",
       "  </tbody>\n",
       "</table>\n",
       "</div>"
      ],
      "text/plain": [
       "Children               0        1        2\n",
       "Income_Category                           \n",
       "Низкий               NaN  29143.2  16626.0\n",
       "Средний          56597.5  53098.8      NaN"
      ]
     },
     "execution_count": 35,
     "metadata": {},
     "output_type": "execute_result"
    }
   ],
   "source": [
    "# Возраст и категории уже созданы в задании 2\n",
    "# Категории дохода уже созданы в задании 8\n",
    "\n",
    "# Топ-3 семейных статуса по медианному доходу\n",
    "top_marital = df.groupby('Marital_Status')['Income'].median().nlargest(3).index\n",
    "\n",
    "# Топ-2 образования по популярности\n",
    "top_edu = df['Education'].value_counts().nlargest(2).index\n",
    "\n",
    "# Фильтрация: низкий/средний доход, молодой/средний возраст, топ семейного статуса и топ образования\n",
    "filtered = df[\n",
    "    (df['Income_Category'].isin(['Низкий','Средний'])) &\n",
    "    (df['Age_Category'].isin(['Молодой','Средний'])) &\n",
    "    (df['Marital_Status'].isin(top_marital)) &\n",
    "    (df['Education'].isin(top_edu))\n",
    "]\n",
    "\n",
    "# Сводные таблицы\n",
    "pivot_numdeals = filtered.pivot_table(\n",
    "    index='Education',\n",
    "    columns='Marital_Status',\n",
    "    values='Quantity_Purchases',\n",
    "    aggfunc=['mean', 'median'],\n",
    "    observed=False\n",
    ").round(1)\n",
    "\n",
    "pivot_income_kid = filtered.pivot_table(\n",
    "    index='Income_Category',\n",
    "    columns='Children',\n",
    "    values='Income',\n",
    "    aggfunc='mean',\n",
    "    observed=False\n",
    ").round(1)\n",
    "\n",
    "display(pivot_numdeals)\n",
    "pivot_income_kid"
   ]
  },
  {
   "cell_type": "markdown",
   "metadata": {},
   "source": [
    "Вывод: \n",
    "По покупательской активности (NumDealsPurchases) видно, что среди клиентов с образованием Graduation показатели выше у разведённых (≈2.4) и несколько ниже у вдов (≈1.9). У клиентов с PhD активность колеблется, при этом медианные значения достаточно низкие.\n",
    "\n",
    "По доходу чётко выделяются клиенты со средним доходом (≈53–57 тыс.), в то время как у группы с низким доходом значения значительно ниже (≈16–29 тыс.).\n",
    "\n",
    "Наибольший вклад в доход и активность дают категории клиентов со средним доходом и образованием уровня Graduation.\n",
    "\n",
    "Таким образом, сегмент «средний доход + образование Graduation + разведённые» выглядит наиболее перспективным для маркетингового внимания."
   ]
  },
  {
   "cell_type": "code",
   "execution_count": 36,
   "metadata": {},
   "outputs": [
    {
     "name": "stdout",
     "output_type": "stream",
     "text": [
      "<class 'pandas.core.frame.DataFrame'>\n",
      "RangeIndex: 791 entries, 0 to 790\n",
      "Data columns (total 11 columns):\n",
      " #   Column              Non-Null Count  Dtype         \n",
      "---  ------              --------------  -----         \n",
      " 0   ID                  791 non-null    int64         \n",
      " 1   Year_Birth          791 non-null    int64         \n",
      " 2   Education           791 non-null    object        \n",
      " 3   Marital_Status      791 non-null    object        \n",
      " 4   Income              791 non-null    float64       \n",
      " 5   Children            791 non-null    int64         \n",
      " 6   Date_Registration   791 non-null    datetime64[ns]\n",
      " 7   Quantity_Purchases  791 non-null    int64         \n",
      " 8   Age                 791 non-null    int64         \n",
      " 9   Age_Category        790 non-null    category      \n",
      " 10  Income_Category     791 non-null    category      \n",
      "dtypes: category(2), datetime64[ns](1), float64(1), int64(5), object(2)\n",
      "memory usage: 57.5+ KB\n"
     ]
    }
   ],
   "source": [
    "df.info()"
   ]
  },
  {
   "cell_type": "markdown",
   "metadata": {
    "id": "y-qpTuhTvon3"
   },
   "source": [
    "***`Подробный вывод по заданию, описание полученных результатов`***"
   ]
  }
 ],
 "metadata": {
  "colab": {
   "provenance": []
  },
  "kernelspec": {
   "display_name": "Python 3 (ipykernel)",
   "language": "python",
   "name": "python3"
  },
  "language_info": {
   "codemirror_mode": {
    "name": "ipython",
    "version": 3
   },
   "file_extension": ".py",
   "mimetype": "text/x-python",
   "name": "python",
   "nbconvert_exporter": "python",
   "pygments_lexer": "ipython3",
   "version": "3.11.4"
  }
 },
 "nbformat": 4,
 "nbformat_minor": 4
}
